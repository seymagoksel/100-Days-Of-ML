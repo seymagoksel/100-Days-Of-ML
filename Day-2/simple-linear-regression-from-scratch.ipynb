{
 "cells": [
  {
   "cell_type": "markdown",
   "id": "7e1526d4",
   "metadata": {
    "papermill": {
     "duration": 0.011068,
     "end_time": "2022-02-23T10:25:06.780878",
     "exception": false,
     "start_time": "2022-02-23T10:25:06.769810",
     "status": "completed"
    },
    "tags": []
   },
   "source": [
    "<p style=\"background-color:#F06292;font-family:newtimeroman;color:#FFF;font-size:180%;text-align:center;border-radius:10px 10px;\">SIMPLE LINEAR REGRESSION 📈 </p>\n",
    "Simple linear regression is a method to predict dependent variable(Y) based on values of independent variables(X). It is assumed that the two variables are lenearly related. Hence, we try to find a linear function that predicts the response value(Y) as accurately as possible as a function of the feature or independent variable(X).\n",
    "\n",
    "<center><img src = \"https://miro.medium.com/max/960/1*jt-pyQQ7bgL2lyganse0nQ.png\"></center>\n",
    "\n",
    "To establish notation for future use, we’ll use x(i) to denote the “input” variables (living area in this example), also called input features, and y(i) to denote the “output” or target variable that we are trying to predict (price). A pair (x(i), y(i)) is called a training example, and the dataset that we’ll be using to learn—a list of m training examples (x(i),y(i)); i=1,...,m—is called a training set. Note that the superscript “(i)” in the notation is simply an index into the training set, and has nothing to do with exponentiation. We will also use X to denote the space of input values, and Y to denote the space of output values. In this example, X = Y = ℝ.\n",
    "\n",
    "To describe the supervised learning problem slightly more formally, our goal is, given a training set, to learn a function h : X → Y so that h(x) is a “good” predictor for the corresponding value of y. For historical reasons, this function h is called a hypothesis.\n",
    "\n",
    "<h1><center><font size=\"5\">$ salePrice = a1 * GrLivArea + a0 $ </font></center></h1>\n",
    "\n",
    "<center><img src = \"https://miro.medium.com/max/1400/0*QG8dIxNTaBH7Qrxq\"></center>\n",
    "\n",
    "<p style=\"background-color:#F06292;font-family:newtimeroman;color:#FFF;font-size:180%;text-align:center;border-radius:10px 10px;\"> HOUSE PRICE PREDICTION 🏡 </p>"
   ]
  },
  {
   "cell_type": "code",
   "execution_count": 1,
   "id": "2fb2ac6e",
   "metadata": {
    "execution": {
     "iopub.execute_input": "2022-02-23T10:25:06.802967Z",
     "iopub.status.busy": "2022-02-23T10:25:06.801834Z",
     "iopub.status.idle": "2022-02-23T10:25:07.888471Z",
     "shell.execute_reply": "2022-02-23T10:25:07.887718Z",
     "shell.execute_reply.started": "2022-02-23T10:21:25.606331Z"
    },
    "papermill": {
     "duration": 1.098536,
     "end_time": "2022-02-23T10:25:07.888632",
     "exception": false,
     "start_time": "2022-02-23T10:25:06.790096",
     "status": "completed"
    },
    "tags": []
   },
   "outputs": [],
   "source": [
    "import pandas as pd \n",
    "import numpy as np\n",
    "import seaborn as sns \n",
    "import matplotlib.pyplot as plt\n",
    "\n",
    "from sklearn.metrics import mean_squared_error,r2_score"
   ]
  },
  {
   "cell_type": "code",
   "execution_count": 2,
   "id": "a8f310a7",
   "metadata": {
    "execution": {
     "iopub.execute_input": "2022-02-23T10:25:07.911134Z",
     "iopub.status.busy": "2022-02-23T10:25:07.910429Z",
     "iopub.status.idle": "2022-02-23T10:25:07.950167Z",
     "shell.execute_reply": "2022-02-23T10:25:07.949490Z",
     "shell.execute_reply.started": "2022-02-23T10:16:28.817610Z"
    },
    "papermill": {
     "duration": 0.052706,
     "end_time": "2022-02-23T10:25:07.950312",
     "exception": false,
     "start_time": "2022-02-23T10:25:07.897606",
     "status": "completed"
    },
    "tags": []
   },
   "outputs": [],
   "source": [
    "data = pd.read_csv('../input/house-prices-advanced-regression-techniques/train.csv')"
   ]
  },
  {
   "cell_type": "code",
   "execution_count": 3,
   "id": "a4d94cba",
   "metadata": {
    "execution": {
     "iopub.execute_input": "2022-02-23T10:25:07.983919Z",
     "iopub.status.busy": "2022-02-23T10:25:07.982921Z",
     "iopub.status.idle": "2022-02-23T10:25:08.007093Z",
     "shell.execute_reply": "2022-02-23T10:25:08.007630Z",
     "shell.execute_reply.started": "2022-02-23T10:16:33.298424Z"
    },
    "papermill": {
     "duration": 0.048433,
     "end_time": "2022-02-23T10:25:08.007796",
     "exception": false,
     "start_time": "2022-02-23T10:25:07.959363",
     "status": "completed"
    },
    "tags": []
   },
   "outputs": [
    {
     "name": "stdout",
     "output_type": "stream",
     "text": [
      "<class 'pandas.core.frame.DataFrame'>\n",
      "RangeIndex: 1460 entries, 0 to 1459\n",
      "Data columns (total 81 columns):\n",
      " #   Column         Non-Null Count  Dtype  \n",
      "---  ------         --------------  -----  \n",
      " 0   Id             1460 non-null   int64  \n",
      " 1   MSSubClass     1460 non-null   int64  \n",
      " 2   MSZoning       1460 non-null   object \n",
      " 3   LotFrontage    1201 non-null   float64\n",
      " 4   LotArea        1460 non-null   int64  \n",
      " 5   Street         1460 non-null   object \n",
      " 6   Alley          91 non-null     object \n",
      " 7   LotShape       1460 non-null   object \n",
      " 8   LandContour    1460 non-null   object \n",
      " 9   Utilities      1460 non-null   object \n",
      " 10  LotConfig      1460 non-null   object \n",
      " 11  LandSlope      1460 non-null   object \n",
      " 12  Neighborhood   1460 non-null   object \n",
      " 13  Condition1     1460 non-null   object \n",
      " 14  Condition2     1460 non-null   object \n",
      " 15  BldgType       1460 non-null   object \n",
      " 16  HouseStyle     1460 non-null   object \n",
      " 17  OverallQual    1460 non-null   int64  \n",
      " 18  OverallCond    1460 non-null   int64  \n",
      " 19  YearBuilt      1460 non-null   int64  \n",
      " 20  YearRemodAdd   1460 non-null   int64  \n",
      " 21  RoofStyle      1460 non-null   object \n",
      " 22  RoofMatl       1460 non-null   object \n",
      " 23  Exterior1st    1460 non-null   object \n",
      " 24  Exterior2nd    1460 non-null   object \n",
      " 25  MasVnrType     1452 non-null   object \n",
      " 26  MasVnrArea     1452 non-null   float64\n",
      " 27  ExterQual      1460 non-null   object \n",
      " 28  ExterCond      1460 non-null   object \n",
      " 29  Foundation     1460 non-null   object \n",
      " 30  BsmtQual       1423 non-null   object \n",
      " 31  BsmtCond       1423 non-null   object \n",
      " 32  BsmtExposure   1422 non-null   object \n",
      " 33  BsmtFinType1   1423 non-null   object \n",
      " 34  BsmtFinSF1     1460 non-null   int64  \n",
      " 35  BsmtFinType2   1422 non-null   object \n",
      " 36  BsmtFinSF2     1460 non-null   int64  \n",
      " 37  BsmtUnfSF      1460 non-null   int64  \n",
      " 38  TotalBsmtSF    1460 non-null   int64  \n",
      " 39  Heating        1460 non-null   object \n",
      " 40  HeatingQC      1460 non-null   object \n",
      " 41  CentralAir     1460 non-null   object \n",
      " 42  Electrical     1459 non-null   object \n",
      " 43  1stFlrSF       1460 non-null   int64  \n",
      " 44  2ndFlrSF       1460 non-null   int64  \n",
      " 45  LowQualFinSF   1460 non-null   int64  \n",
      " 46  GrLivArea      1460 non-null   int64  \n",
      " 47  BsmtFullBath   1460 non-null   int64  \n",
      " 48  BsmtHalfBath   1460 non-null   int64  \n",
      " 49  FullBath       1460 non-null   int64  \n",
      " 50  HalfBath       1460 non-null   int64  \n",
      " 51  BedroomAbvGr   1460 non-null   int64  \n",
      " 52  KitchenAbvGr   1460 non-null   int64  \n",
      " 53  KitchenQual    1460 non-null   object \n",
      " 54  TotRmsAbvGrd   1460 non-null   int64  \n",
      " 55  Functional     1460 non-null   object \n",
      " 56  Fireplaces     1460 non-null   int64  \n",
      " 57  FireplaceQu    770 non-null    object \n",
      " 58  GarageType     1379 non-null   object \n",
      " 59  GarageYrBlt    1379 non-null   float64\n",
      " 60  GarageFinish   1379 non-null   object \n",
      " 61  GarageCars     1460 non-null   int64  \n",
      " 62  GarageArea     1460 non-null   int64  \n",
      " 63  GarageQual     1379 non-null   object \n",
      " 64  GarageCond     1379 non-null   object \n",
      " 65  PavedDrive     1460 non-null   object \n",
      " 66  WoodDeckSF     1460 non-null   int64  \n",
      " 67  OpenPorchSF    1460 non-null   int64  \n",
      " 68  EnclosedPorch  1460 non-null   int64  \n",
      " 69  3SsnPorch      1460 non-null   int64  \n",
      " 70  ScreenPorch    1460 non-null   int64  \n",
      " 71  PoolArea       1460 non-null   int64  \n",
      " 72  PoolQC         7 non-null      object \n",
      " 73  Fence          281 non-null    object \n",
      " 74  MiscFeature    54 non-null     object \n",
      " 75  MiscVal        1460 non-null   int64  \n",
      " 76  MoSold         1460 non-null   int64  \n",
      " 77  YrSold         1460 non-null   int64  \n",
      " 78  SaleType       1460 non-null   object \n",
      " 79  SaleCondition  1460 non-null   object \n",
      " 80  SalePrice      1460 non-null   int64  \n",
      "dtypes: float64(3), int64(35), object(43)\n",
      "memory usage: 924.0+ KB\n"
     ]
    }
   ],
   "source": [
    "data.info()"
   ]
  },
  {
   "cell_type": "code",
   "execution_count": 4,
   "id": "1ef4f853",
   "metadata": {
    "execution": {
     "iopub.execute_input": "2022-02-23T10:25:08.030537Z",
     "iopub.status.busy": "2022-02-23T10:25:08.029947Z",
     "iopub.status.idle": "2022-02-23T10:25:08.304034Z",
     "shell.execute_reply": "2022-02-23T10:25:08.303376Z",
     "shell.execute_reply.started": "2022-02-23T10:17:02.196412Z"
    },
    "papermill": {
     "duration": 0.286646,
     "end_time": "2022-02-23T10:25:08.304175",
     "exception": false,
     "start_time": "2022-02-23T10:25:08.017529",
     "status": "completed"
    },
    "tags": []
   },
   "outputs": [
    {
     "data": {
      "image/png": "[encoded data removed]",
      "text/plain": [
       "<Figure size 600x400 with 1 Axes>"
      ]
     },
     "metadata": {
      "needs_background": "light"
     },
     "output_type": "display_data"
    }
   ],
   "source": [
    "plt.figure(dpi=100)\n",
    "sns.scatterplot(x=\"GrLivArea\", y=\"SalePrice\", data=data);"
   ]
  },
  {
   "cell_type": "code",
   "execution_count": 5,
   "id": "3c62b3e1",
   "metadata": {
    "execution": {
     "iopub.execute_input": "2022-02-23T10:25:08.335794Z",
     "iopub.status.busy": "2022-02-23T10:25:08.335172Z",
     "iopub.status.idle": "2022-02-23T10:25:08.336935Z",
     "shell.execute_reply": "2022-02-23T10:25:08.337380Z",
     "shell.execute_reply.started": "2022-02-23T10:18:13.655059Z"
    },
    "papermill": {
     "duration": 0.021846,
     "end_time": "2022-02-23T10:25:08.337547",
     "exception": false,
     "start_time": "2022-02-23T10:25:08.315701",
     "status": "completed"
    },
    "tags": []
   },
   "outputs": [],
   "source": [
    "def loss_function(y_true, y_pred):\n",
    "    N = y_pred.shape[0]\n",
    "    return np.sum((y_pred - y_true)**2)/N \n",
    "\n",
    "# a0 gradient\n",
    "def grad0(y_true, y_pred):\n",
    "    N = y_pred.shape[0]\n",
    "    return 2 * np.sum(y_pred - y_true)/N\n",
    "\n",
    "# a1 gradient\n",
    "def grad1(y_true, y_pred, x_train):\n",
    "    N = y_pred.shape[0]\n",
    "    return 2 * np.sum((y_pred - y_true) * x_train)/N\n",
    "\n",
    "# Parameter update\n",
    "def updateParams(param, lr, delta):\n",
    "    return param - lr * delta\n",
    "\n",
    "# Forward function\n",
    "def forward(params, pX):\n",
    "    return params[0] + params[1] * pX\n",
    "\n",
    "# Normalizer\n",
    "def scaler(x):\n",
    "    return (x - np.mean(x)) / np.std(x)\n",
    "\n"
   ]
  },
  {
   "cell_type": "code",
   "execution_count": 6,
   "id": "1413653b",
   "metadata": {
    "execution": {
     "iopub.execute_input": "2022-02-23T10:25:08.363976Z",
     "iopub.status.busy": "2022-02-23T10:25:08.363333Z",
     "iopub.status.idle": "2022-02-23T10:25:08.850988Z",
     "shell.execute_reply": "2022-02-23T10:25:08.850429Z",
     "shell.execute_reply.started": "2022-02-23T10:18:16.768013Z"
    },
    "papermill": {
     "duration": 0.5021,
     "end_time": "2022-02-23T10:25:08.851131",
     "exception": false,
     "start_time": "2022-02-23T10:25:08.349031",
     "status": "completed"
    },
    "tags": []
   },
   "outputs": [
    {
     "name": "stdout",
     "output_type": "stream",
     "text": [
      "a0: 2.0960524031816063e-16\n",
      "a1: 0.6956974485680824\n",
      "----------\n"
     ]
    },
    {
     "data": {
      "image/png": "[encoded data removed]",
      "text/plain": [
       "<Figure size 432x288 with 1 Axes>"
      ]
     },
     "metadata": {
      "needs_background": "light"
     },
     "output_type": "display_data"
    },
    {
     "data": {
      "image/png": "[encoded data removed]",
      "text/plain": [
       "<Figure size 432x288 with 1 Axes>"
      ]
     },
     "metadata": {
      "needs_background": "light"
     },
     "output_type": "display_data"
    }
   ],
   "source": [
    "a0 = 0\n",
    "a1 = 0\n",
    "\n",
    "# X, Y\n",
    "x = scaler(data[\"GrLivArea\"].values)\n",
    "y = scaler(data[\"SalePrice\"].values)\n",
    "\n",
    "# Learning rate\n",
    "lr = 1e-3\n",
    "\n",
    "# Errors\n",
    "errors = []\n",
    "\n",
    "epochs = 2000\n",
    "for i in range(epochs):\n",
    "    \n",
    "    # Forward function\n",
    "    y_pred = forward(params=[a0, a1], pX=x)\n",
    "    \n",
    "    # Calculate loss\n",
    "    loss = loss_function(y_true=y, y_pred=y_pred)\n",
    "    errors.append(loss)\n",
    "    \n",
    "    # Calculate gradients\n",
    "    gr0 = grad0(y_true=y, y_pred=y_pred)\n",
    "    gr1 = grad1(y_true=y, y_pred=y_pred, x_train=x)\n",
    "    \n",
    "    # Update parameters\n",
    "    a0 = updateParams(a0, lr=lr, delta=gr0)\n",
    "    a1 = updateParams(a1, lr=lr, delta=gr1)\n",
    "    \n",
    "print(\"a0: {}\".format(a0))\n",
    "print(\"a1: {}\".format(a1))\n",
    "print(\"----------\")\n",
    "    \n",
    "plt.plot(x, y, \".\", label=\"True\")\n",
    "plt.plot(x, y_pred, \".\", label=\"Predicted\")\n",
    "plt.legend();\n",
    "\n",
    "plt.figure()\n",
    "plt.plot(errors);"
   ]
  },
  {
   "cell_type": "code",
   "execution_count": 7,
   "id": "dab47ec9",
   "metadata": {
    "execution": {
     "iopub.execute_input": "2022-02-23T10:25:08.887880Z",
     "iopub.status.busy": "2022-02-23T10:25:08.886925Z",
     "iopub.status.idle": "2022-02-23T10:25:08.891088Z",
     "shell.execute_reply": "2022-02-23T10:25:08.892043Z",
     "shell.execute_reply.started": "2022-02-23T10:21:54.642709Z"
    },
    "papermill": {
     "duration": 0.026697,
     "end_time": "2022-02-23T10:25:08.892346",
     "exception": false,
     "start_time": "2022-02-23T10:25:08.865649",
     "status": "completed"
    },
    "tags": []
   },
   "outputs": [
    {
     "name": "stdout",
     "output_type": "stream",
     "text": [
      "R^2 :  0.5019808717489074\n",
      "MSE : 0.49801912825109246\n",
      "RMSE: 0.7057047032938724\n"
     ]
    }
   ],
   "source": [
    "print(\"R^2 : \", r2_score(y, y_pred))\n",
    "print(\"MSE :\", mean_squared_error(y,y_pred))\n",
    "print(\"RMSE:\",np.sqrt(mean_squared_error(y, y_pred)))"
   ]
  }
 ],
 "metadata": {
  "kernelspec": {
   "display_name": "Python 3",
   "language": "python",
   "name": "python3"
  },
  "language_info": {
   "codemirror_mode": {
    "name": "ipython",
    "version": 3
   },
   "file_extension": ".py",
   "mimetype": "text/x-python",
   "name": "python",
   "nbconvert_exporter": "python",
   "pygments_lexer": "ipython3",
   "version": "3.7.12"
  },
  "papermill": {
   "default_parameters": {},
   "duration": 12.038719,
   "end_time": "2022-02-23T10:25:09.617032",
   "environment_variables": {},
   "exception": null,
   "input_path": "__notebook__.ipynb",
   "output_path": "__notebook__.ipynb",
   "parameters": {},
   "start_time": "2022-02-23T10:24:57.578313",
   "version": "2.3.3"
  }
 },
 "nbformat": 4,
 "nbformat_minor": 5
}
