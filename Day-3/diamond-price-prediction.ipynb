{
 "cells": [
  {
   "cell_type": "markdown",
   "id": "b17b0bae",
   "metadata": {
    "papermill": {
     "duration": 0.026411,
     "end_time": "2022-02-22T21:17:20.485242",
     "exception": false,
     "start_time": "2022-02-22T21:17:20.458831",
     "status": "completed"
    },
    "tags": []
   },
   "source": [
    "<p style=\"background-color:#FFF;font-family:newtimeroman;color:#235c87;font-size:180%;text-align:center;border-style: solid;border-radius:8px 8px;border-color:#235c87;border-width: 5px;\"> DIAMONDS PRICE PREDICTION 💎 </p>\n",
    "\n",
    "#### [1. MULTIPLE LINEAR REGRESSION](#1)\n",
    "\n",
    "#### [2. ABOUT DATASET](#2)\n",
    "\n",
    "#### [3. IMPORTING LIBRARIES AND LOADING DATA](#3)\n",
    " \n",
    "#### [4. EXPLORATORY DATA ANALYSIS (EDA) ](#4)\n",
    "\n",
    "#### [5. PREPROCESSING](#5)\n",
    "\n",
    "#### [6. MODELING](#6)\n",
    "\n",
    "<a id=\"1\"></a>\n",
    "<p style=\"background-color:#FFF;font-family:newtimeroman;color:#235c87;font-size:180%;text-align:center;border-style: solid;border-radius:8px 8px;border-color:#235c87;border-width: 5px;\"> MULTIPLE LINEAR REGRESSION </p>\n",
    "\n",
    "Multiple linear regression attempts to model the relationship between two or more features and response by fitting a linear equation to observed data. The steps to perform multiple linear regresion are  almost similar to that of simple linear regression. The difference lies in the evaluation. You can use it to find out which factor has the highest impact on the predicted output and how factor has highest impact on the predicted output and how different variables relate to each other.\n",
    "\n",
    "\n",
    "<center><img src = \"data:image/png;base64,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\"></center>\n",
    "\n",
    "<a id=\"2\"></a>\n",
    "<p style=\"background-color:#FFF;font-family:newtimeroman;color:#235c87;font-size:180%;text-align:center;border-style: solid;border-radius:8px 8px;border-color:#235c87;border-width: 5px;\"> ABOUT DATASET </p>\n",
    "\n",
    "* <b> price : </b> Price in US dollars ($326--$18,823)\n",
    "\n",
    "* <b> carat : </b> Weight of the diamond (0.2--5.01)\n",
    "\n",
    "* <b> cut : </b> Quality of the cut (Fair, Good, Very Good, Premium, Ideal)\n",
    "\n",
    "* <b> color : </b> Diamond colour, from J (worst) to D (best)\n",
    "\n",
    "* <b> clarity : </b> A measurement of how clear the diamond is (I1 (worst), SI2, SI1, VS2, VS1, VVS2, VVS1, IF (best))\n",
    "\n",
    "* <b> depth : </b> Total depth percentage = z / mean(x, y) = 2 * z / (x + y) (43--79)\n",
    "\n",
    "* <b> table : </b> Width of top of diamond relative to widest point (43--95)\n",
    "\n",
    "* <b> x : </b> Length in mm (0--10.74)\n",
    "\n",
    "* <b> y : </b> Width in mm (0--58.9)\n",
    "\n",
    "* <b> z : </b> Depth in mm (0--31.8)\n",
    "\n",
    "\n",
    "<a id=\"3\"></a>\n",
    "<p style=\"background-color:#FFF;font-family:newtimeroman;color:#235c87;font-size:180%;text-align:center;border-style: solid;border-radius:8px 8px;border-color:#235c87;border-width: 5px;\"> IMPORTING LIBRARIES AND LOADING DATA </p>\n",
    "\n",
    "\n",
    "\n"
   ]
  },
  {
   "cell_type": "code",
   "execution_count": 1,
   "id": "8c0be703",
   "metadata": {
    "execution": {
     "iopub.execute_input": "2022-02-22T21:17:20.544520Z",
     "iopub.status.busy": "2022-02-22T21:17:20.542382Z",
     "iopub.status.idle": "2022-02-22T21:17:21.956535Z",
     "shell.execute_reply": "2022-02-22T21:17:21.955133Z",
     "shell.execute_reply.started": "2022-02-22T21:12:43.058434Z"
    },
    "papermill": {
     "duration": 1.446499,
     "end_time": "2022-02-22T21:17:21.956772",
     "exception": false,
     "start_time": "2022-02-22T21:17:20.510273",
     "status": "completed"
    },
    "tags": []
   },
   "outputs": [],
   "source": [
    "import numpy as np\n",
    "import pandas as pd\n",
    "import matplotlib.pyplot as plt\n",
    "import seaborn as sns\n",
    "\n",
    "from sklearn.preprocessing import LabelEncoder, StandardScaler\n",
    "from sklearn.model_selection import train_test_split\n",
    "from sklearn.linear_model import LinearRegression\n",
    "from sklearn.metrics import mean_squared_error,r2_score"
   ]
  },
  {
   "cell_type": "code",
   "execution_count": 2,
   "id": "14b0a050",
   "metadata": {
    "execution": {
     "iopub.execute_input": "2022-02-22T21:17:22.012797Z",
     "iopub.status.busy": "2022-02-22T21:17:22.011982Z",
     "iopub.status.idle": "2022-02-22T21:17:22.160584Z",
     "shell.execute_reply": "2022-02-22T21:17:22.161094Z",
     "shell.execute_reply.started": "2022-02-22T21:12:43.068440Z"
    },
    "papermill": {
     "duration": 0.178103,
     "end_time": "2022-02-22T21:17:22.161278",
     "exception": false,
     "start_time": "2022-02-22T21:17:21.983175",
     "status": "completed"
    },
    "tags": []
   },
   "outputs": [
    {
     "data": {
      "text/html": [
       "<div>\n",
       "<style scoped>\n",
       "    .dataframe tbody tr th:only-of-type {\n",
       "        vertical-align: middle;\n",
       "    }\n",
       "\n",
       "    .dataframe tbody tr th {\n",
       "        vertical-align: top;\n",
       "    }\n",
       "\n",
       "    .dataframe thead th {\n",
       "        text-align: right;\n",
       "    }\n",
       "</style>\n",
       "<table border=\"1\" class=\"dataframe\">\n",
       "  <thead>\n",
       "    <tr style=\"text-align: right;\">\n",
       "      <th></th>\n",
       "      <th>Unnamed: 0</th>\n",
       "      <th>carat</th>\n",
       "      <th>cut</th>\n",
       "      <th>color</th>\n",
       "      <th>clarity</th>\n",
       "      <th>depth</th>\n",
       "      <th>table</th>\n",
       "      <th>price</th>\n",
       "      <th>x</th>\n",
       "      <th>y</th>\n",
       "      <th>z</th>\n",
       "    </tr>\n",
       "  </thead>\n",
       "  <tbody>\n",
       "    <tr>\n",
       "      <th>0</th>\n",
       "      <td>1</td>\n",
       "      <td>0.23</td>\n",
       "      <td>Ideal</td>\n",
       "      <td>E</td>\n",
       "      <td>SI2</td>\n",
       "      <td>61.5</td>\n",
       "      <td>55.0</td>\n",
       "      <td>326</td>\n",
       "      <td>3.95</td>\n",
       "      <td>3.98</td>\n",
       "      <td>2.43</td>\n",
       "    </tr>\n",
       "    <tr>\n",
       "      <th>1</th>\n",
       "      <td>2</td>\n",
       "      <td>0.21</td>\n",
       "      <td>Premium</td>\n",
       "      <td>E</td>\n",
       "      <td>SI1</td>\n",
       "      <td>59.8</td>\n",
       "      <td>61.0</td>\n",
       "      <td>326</td>\n",
       "      <td>3.89</td>\n",
       "      <td>3.84</td>\n",
       "      <td>2.31</td>\n",
       "    </tr>\n",
       "    <tr>\n",
       "      <th>2</th>\n",
       "      <td>3</td>\n",
       "      <td>0.23</td>\n",
       "      <td>Good</td>\n",
       "      <td>E</td>\n",
       "      <td>VS1</td>\n",
       "      <td>56.9</td>\n",
       "      <td>65.0</td>\n",
       "      <td>327</td>\n",
       "      <td>4.05</td>\n",
       "      <td>4.07</td>\n",
       "      <td>2.31</td>\n",
       "    </tr>\n",
       "    <tr>\n",
       "      <th>3</th>\n",
       "      <td>4</td>\n",
       "      <td>0.29</td>\n",
       "      <td>Premium</td>\n",
       "      <td>I</td>\n",
       "      <td>VS2</td>\n",
       "      <td>62.4</td>\n",
       "      <td>58.0</td>\n",
       "      <td>334</td>\n",
       "      <td>4.20</td>\n",
       "      <td>4.23</td>\n",
       "      <td>2.63</td>\n",
       "    </tr>\n",
       "    <tr>\n",
       "      <th>4</th>\n",
       "      <td>5</td>\n",
       "      <td>0.31</td>\n",
       "      <td>Good</td>\n",
       "      <td>J</td>\n",
       "      <td>SI2</td>\n",
       "      <td>63.3</td>\n",
       "      <td>58.0</td>\n",
       "      <td>335</td>\n",
       "      <td>4.34</td>\n",
       "      <td>4.35</td>\n",
       "      <td>2.75</td>\n",
       "    </tr>\n",
       "  </tbody>\n",
       "</table>\n",
       "</div>"
      ],
      "text/plain": [
       "   Unnamed: 0  carat      cut color clarity  depth  table  price     x     y  \\\n",
       "0           1   0.23    Ideal     E     SI2   61.5   55.0    326  3.95  3.98   \n",
       "1           2   0.21  Premium     E     SI1   59.8   61.0    326  3.89  3.84   \n",
       "2           3   0.23     Good     E     VS1   56.9   65.0    327  4.05  4.07   \n",
       "3           4   0.29  Premium     I     VS2   62.4   58.0    334  4.20  4.23   \n",
       "4           5   0.31     Good     J     SI2   63.3   58.0    335  4.34  4.35   \n",
       "\n",
       "      z  \n",
       "0  2.43  \n",
       "1  2.31  \n",
       "2  2.31  \n",
       "3  2.63  \n",
       "4  2.75  "
      ]
     },
     "execution_count": 2,
     "metadata": {},
     "output_type": "execute_result"
    }
   ],
   "source": [
    "data = pd.read_csv(\"../input/diamonds/diamonds.csv\")\n",
    "data.head()"
   ]
  },
  {
   "cell_type": "markdown",
   "id": "7ada6433",
   "metadata": {
    "papermill": {
     "duration": 0.024738,
     "end_time": "2022-02-22T21:17:22.212898",
     "exception": false,
     "start_time": "2022-02-22T21:17:22.188160",
     "status": "completed"
    },
    "tags": []
   },
   "source": [
    "<a id=\"4\"></a>\n",
    "<p style=\"background-color:#FFF;font-family:newtimeroman;color:#235c87;font-size:180%;text-align:center;border-style: solid;border-radius:8px 8px;border-color:#235c87;border-width: 5px;\"> EXPLORATORY DATA ANALYSIS 🔍</p>\n",
    "\n"
   ]
  },
  {
   "cell_type": "code",
   "execution_count": 3,
   "id": "6cb083e0",
   "metadata": {
    "execution": {
     "iopub.execute_input": "2022-02-22T21:17:22.270859Z",
     "iopub.status.busy": "2022-02-22T21:17:22.270159Z",
     "iopub.status.idle": "2022-02-22T21:17:22.310013Z",
     "shell.execute_reply": "2022-02-22T21:17:22.309289Z",
     "shell.execute_reply.started": "2022-02-22T21:12:43.201589Z"
    },
    "papermill": {
     "duration": 0.071126,
     "end_time": "2022-02-22T21:17:22.310163",
     "exception": false,
     "start_time": "2022-02-22T21:17:22.239037",
     "status": "completed"
    },
    "tags": []
   },
   "outputs": [
    {
     "name": "stdout",
     "output_type": "stream",
     "text": [
      "<class 'pandas.core.frame.DataFrame'>\n",
      "RangeIndex: 53940 entries, 0 to 53939\n",
      "Data columns (total 11 columns):\n",
      " #   Column      Non-Null Count  Dtype  \n",
      "---  ------      --------------  -----  \n",
      " 0   Unnamed: 0  53940 non-null  int64  \n",
      " 1   carat       53940 non-null  float64\n",
      " 2   cut         53940 non-null  object \n",
      " 3   color       53940 non-null  object \n",
      " 4   clarity     53940 non-null  object \n",
      " 5   depth       53940 non-null  float64\n",
      " 6   table       53940 non-null  float64\n",
      " 7   price       53940 non-null  int64  \n",
      " 8   x           53940 non-null  float64\n",
      " 9   y           53940 non-null  float64\n",
      " 10  z           53940 non-null  float64\n",
      "dtypes: float64(6), int64(2), object(3)\n",
      "memory usage: 4.5+ MB\n"
     ]
    }
   ],
   "source": [
    "data.info()"
   ]
  },
  {
   "cell_type": "code",
   "execution_count": 4,
   "id": "e9dcbe13",
   "metadata": {
    "execution": {
     "iopub.execute_input": "2022-02-22T21:17:22.368802Z",
     "iopub.status.busy": "2022-02-22T21:17:22.368109Z",
     "iopub.status.idle": "2022-02-22T21:17:22.415983Z",
     "shell.execute_reply": "2022-02-22T21:17:22.415483Z",
     "shell.execute_reply.started": "2022-02-22T21:12:43.237612Z"
    },
    "papermill": {
     "duration": 0.081065,
     "end_time": "2022-02-22T21:17:22.416127",
     "exception": false,
     "start_time": "2022-02-22T21:17:22.335062",
     "status": "completed"
    },
    "tags": []
   },
   "outputs": [
    {
     "data": {
      "text/html": [
       "<div>\n",
       "<style scoped>\n",
       "    .dataframe tbody tr th:only-of-type {\n",
       "        vertical-align: middle;\n",
       "    }\n",
       "\n",
       "    .dataframe tbody tr th {\n",
       "        vertical-align: top;\n",
       "    }\n",
       "\n",
       "    .dataframe thead th {\n",
       "        text-align: right;\n",
       "    }\n",
       "</style>\n",
       "<table border=\"1\" class=\"dataframe\">\n",
       "  <thead>\n",
       "    <tr style=\"text-align: right;\">\n",
       "      <th></th>\n",
       "      <th>count</th>\n",
       "      <th>mean</th>\n",
       "      <th>std</th>\n",
       "      <th>min</th>\n",
       "      <th>25%</th>\n",
       "      <th>50%</th>\n",
       "      <th>75%</th>\n",
       "      <th>max</th>\n",
       "    </tr>\n",
       "  </thead>\n",
       "  <tbody>\n",
       "    <tr>\n",
       "      <th>Unnamed: 0</th>\n",
       "      <td>53940.0</td>\n",
       "      <td>26970.500000</td>\n",
       "      <td>15571.281097</td>\n",
       "      <td>1.0</td>\n",
       "      <td>13485.75</td>\n",
       "      <td>26970.50</td>\n",
       "      <td>40455.25</td>\n",
       "      <td>53940.00</td>\n",
       "    </tr>\n",
       "    <tr>\n",
       "      <th>carat</th>\n",
       "      <td>53940.0</td>\n",
       "      <td>0.797940</td>\n",
       "      <td>0.474011</td>\n",
       "      <td>0.2</td>\n",
       "      <td>0.40</td>\n",
       "      <td>0.70</td>\n",
       "      <td>1.04</td>\n",
       "      <td>5.01</td>\n",
       "    </tr>\n",
       "    <tr>\n",
       "      <th>depth</th>\n",
       "      <td>53940.0</td>\n",
       "      <td>61.749405</td>\n",
       "      <td>1.432621</td>\n",
       "      <td>43.0</td>\n",
       "      <td>61.00</td>\n",
       "      <td>61.80</td>\n",
       "      <td>62.50</td>\n",
       "      <td>79.00</td>\n",
       "    </tr>\n",
       "    <tr>\n",
       "      <th>table</th>\n",
       "      <td>53940.0</td>\n",
       "      <td>57.457184</td>\n",
       "      <td>2.234491</td>\n",
       "      <td>43.0</td>\n",
       "      <td>56.00</td>\n",
       "      <td>57.00</td>\n",
       "      <td>59.00</td>\n",
       "      <td>95.00</td>\n",
       "    </tr>\n",
       "    <tr>\n",
       "      <th>price</th>\n",
       "      <td>53940.0</td>\n",
       "      <td>3932.799722</td>\n",
       "      <td>3989.439738</td>\n",
       "      <td>326.0</td>\n",
       "      <td>950.00</td>\n",
       "      <td>2401.00</td>\n",
       "      <td>5324.25</td>\n",
       "      <td>18823.00</td>\n",
       "    </tr>\n",
       "    <tr>\n",
       "      <th>x</th>\n",
       "      <td>53940.0</td>\n",
       "      <td>5.731157</td>\n",
       "      <td>1.121761</td>\n",
       "      <td>0.0</td>\n",
       "      <td>4.71</td>\n",
       "      <td>5.70</td>\n",
       "      <td>6.54</td>\n",
       "      <td>10.74</td>\n",
       "    </tr>\n",
       "    <tr>\n",
       "      <th>y</th>\n",
       "      <td>53940.0</td>\n",
       "      <td>5.734526</td>\n",
       "      <td>1.142135</td>\n",
       "      <td>0.0</td>\n",
       "      <td>4.72</td>\n",
       "      <td>5.71</td>\n",
       "      <td>6.54</td>\n",
       "      <td>58.90</td>\n",
       "    </tr>\n",
       "    <tr>\n",
       "      <th>z</th>\n",
       "      <td>53940.0</td>\n",
       "      <td>3.538734</td>\n",
       "      <td>0.705699</td>\n",
       "      <td>0.0</td>\n",
       "      <td>2.91</td>\n",
       "      <td>3.53</td>\n",
       "      <td>4.04</td>\n",
       "      <td>31.80</td>\n",
       "    </tr>\n",
       "  </tbody>\n",
       "</table>\n",
       "</div>"
      ],
      "text/plain": [
       "              count          mean           std    min       25%       50%  \\\n",
       "Unnamed: 0  53940.0  26970.500000  15571.281097    1.0  13485.75  26970.50   \n",
       "carat       53940.0      0.797940      0.474011    0.2      0.40      0.70   \n",
       "depth       53940.0     61.749405      1.432621   43.0     61.00     61.80   \n",
       "table       53940.0     57.457184      2.234491   43.0     56.00     57.00   \n",
       "price       53940.0   3932.799722   3989.439738  326.0    950.00   2401.00   \n",
       "x           53940.0      5.731157      1.121761    0.0      4.71      5.70   \n",
       "y           53940.0      5.734526      1.142135    0.0      4.72      5.71   \n",
       "z           53940.0      3.538734      0.705699    0.0      2.91      3.53   \n",
       "\n",
       "                 75%       max  \n",
       "Unnamed: 0  40455.25  53940.00  \n",
       "carat           1.04      5.01  \n",
       "depth          62.50     79.00  \n",
       "table          59.00     95.00  \n",
       "price        5324.25  18823.00  \n",
       "x               6.54     10.74  \n",
       "y               6.54     58.90  \n",
       "z               4.04     31.80  "
      ]
     },
     "execution_count": 4,
     "metadata": {},
     "output_type": "execute_result"
    }
   ],
   "source": [
    "data.describe().T"
   ]
  },
  {
   "cell_type": "code",
   "execution_count": 5,
   "id": "d6b6144c",
   "metadata": {
    "execution": {
     "iopub.execute_input": "2022-02-22T21:17:22.470729Z",
     "iopub.status.busy": "2022-02-22T21:17:22.469992Z",
     "iopub.status.idle": "2022-02-22T21:17:22.497829Z",
     "shell.execute_reply": "2022-02-22T21:17:22.497113Z",
     "shell.execute_reply.started": "2022-02-22T21:12:43.555856Z"
    },
    "papermill": {
     "duration": 0.05631,
     "end_time": "2022-02-22T21:17:22.497977",
     "exception": false,
     "start_time": "2022-02-22T21:17:22.441667",
     "status": "completed"
    },
    "tags": []
   },
   "outputs": [
    {
     "data": {
      "text/plain": [
       "Unnamed: 0    0\n",
       "carat         0\n",
       "cut           0\n",
       "color         0\n",
       "clarity       0\n",
       "depth         0\n",
       "table         0\n",
       "price         0\n",
       "x             0\n",
       "y             0\n",
       "z             0\n",
       "dtype: int64"
      ]
     },
     "execution_count": 5,
     "metadata": {},
     "output_type": "execute_result"
    }
   ],
   "source": [
    "nan = data.isnull().sum()\n",
    "nan"
   ]
  },
  {
   "cell_type": "code",
   "execution_count": 6,
   "id": "7d6bbd71",
   "metadata": {
    "execution": {
     "iopub.execute_input": "2022-02-22T21:17:22.557259Z",
     "iopub.status.busy": "2022-02-22T21:17:22.556538Z",
     "iopub.status.idle": "2022-02-22T21:17:22.602934Z",
     "shell.execute_reply": "2022-02-22T21:17:22.602234Z",
     "shell.execute_reply.started": "2022-02-22T21:12:43.587433Z"
    },
    "papermill": {
     "duration": 0.07825,
     "end_time": "2022-02-22T21:17:22.603081",
     "exception": false,
     "start_time": "2022-02-22T21:17:22.524831",
     "status": "completed"
    },
    "tags": []
   },
   "outputs": [
    {
     "data": {
      "text/html": [
       "<div>\n",
       "<style scoped>\n",
       "    .dataframe tbody tr th:only-of-type {\n",
       "        vertical-align: middle;\n",
       "    }\n",
       "\n",
       "    .dataframe tbody tr th {\n",
       "        vertical-align: top;\n",
       "    }\n",
       "\n",
       "    .dataframe thead th {\n",
       "        text-align: right;\n",
       "    }\n",
       "</style>\n",
       "<table border=\"1\" class=\"dataframe\">\n",
       "  <thead>\n",
       "    <tr style=\"text-align: right;\">\n",
       "      <th></th>\n",
       "      <th>count</th>\n",
       "      <th>mean</th>\n",
       "      <th>std</th>\n",
       "      <th>min</th>\n",
       "      <th>25%</th>\n",
       "      <th>50%</th>\n",
       "      <th>75%</th>\n",
       "      <th>max</th>\n",
       "    </tr>\n",
       "  </thead>\n",
       "  <tbody>\n",
       "    <tr>\n",
       "      <th>carat</th>\n",
       "      <td>53940.0</td>\n",
       "      <td>0.797940</td>\n",
       "      <td>0.474011</td>\n",
       "      <td>0.2</td>\n",
       "      <td>0.40</td>\n",
       "      <td>0.70</td>\n",
       "      <td>1.04</td>\n",
       "      <td>5.01</td>\n",
       "    </tr>\n",
       "    <tr>\n",
       "      <th>depth</th>\n",
       "      <td>53940.0</td>\n",
       "      <td>61.749405</td>\n",
       "      <td>1.432621</td>\n",
       "      <td>43.0</td>\n",
       "      <td>61.00</td>\n",
       "      <td>61.80</td>\n",
       "      <td>62.50</td>\n",
       "      <td>79.00</td>\n",
       "    </tr>\n",
       "    <tr>\n",
       "      <th>table</th>\n",
       "      <td>53940.0</td>\n",
       "      <td>57.457184</td>\n",
       "      <td>2.234491</td>\n",
       "      <td>43.0</td>\n",
       "      <td>56.00</td>\n",
       "      <td>57.00</td>\n",
       "      <td>59.00</td>\n",
       "      <td>95.00</td>\n",
       "    </tr>\n",
       "    <tr>\n",
       "      <th>price</th>\n",
       "      <td>53940.0</td>\n",
       "      <td>3932.799722</td>\n",
       "      <td>3989.439738</td>\n",
       "      <td>326.0</td>\n",
       "      <td>950.00</td>\n",
       "      <td>2401.00</td>\n",
       "      <td>5324.25</td>\n",
       "      <td>18823.00</td>\n",
       "    </tr>\n",
       "    <tr>\n",
       "      <th>x</th>\n",
       "      <td>53940.0</td>\n",
       "      <td>5.731157</td>\n",
       "      <td>1.121761</td>\n",
       "      <td>0.0</td>\n",
       "      <td>4.71</td>\n",
       "      <td>5.70</td>\n",
       "      <td>6.54</td>\n",
       "      <td>10.74</td>\n",
       "    </tr>\n",
       "    <tr>\n",
       "      <th>y</th>\n",
       "      <td>53940.0</td>\n",
       "      <td>5.734526</td>\n",
       "      <td>1.142135</td>\n",
       "      <td>0.0</td>\n",
       "      <td>4.72</td>\n",
       "      <td>5.71</td>\n",
       "      <td>6.54</td>\n",
       "      <td>58.90</td>\n",
       "    </tr>\n",
       "    <tr>\n",
       "      <th>z</th>\n",
       "      <td>53940.0</td>\n",
       "      <td>3.538734</td>\n",
       "      <td>0.705699</td>\n",
       "      <td>0.0</td>\n",
       "      <td>2.91</td>\n",
       "      <td>3.53</td>\n",
       "      <td>4.04</td>\n",
       "      <td>31.80</td>\n",
       "    </tr>\n",
       "  </tbody>\n",
       "</table>\n",
       "</div>"
      ],
      "text/plain": [
       "         count         mean          std    min     25%      50%      75%  \\\n",
       "carat  53940.0     0.797940     0.474011    0.2    0.40     0.70     1.04   \n",
       "depth  53940.0    61.749405     1.432621   43.0   61.00    61.80    62.50   \n",
       "table  53940.0    57.457184     2.234491   43.0   56.00    57.00    59.00   \n",
       "price  53940.0  3932.799722  3989.439738  326.0  950.00  2401.00  5324.25   \n",
       "x      53940.0     5.731157     1.121761    0.0    4.71     5.70     6.54   \n",
       "y      53940.0     5.734526     1.142135    0.0    4.72     5.71     6.54   \n",
       "z      53940.0     3.538734     0.705699    0.0    2.91     3.53     4.04   \n",
       "\n",
       "            max  \n",
       "carat      5.01  \n",
       "depth     79.00  \n",
       "table     95.00  \n",
       "price  18823.00  \n",
       "x         10.74  \n",
       "y         58.90  \n",
       "z         31.80  "
      ]
     },
     "execution_count": 6,
     "metadata": {},
     "output_type": "execute_result"
    }
   ],
   "source": [
    "data = data.drop([\"Unnamed: 0\"], axis=1)\n",
    "data.describe().T"
   ]
  },
  {
   "cell_type": "code",
   "execution_count": 7,
   "id": "d9a643de",
   "metadata": {
    "execution": {
     "iopub.execute_input": "2022-02-22T21:17:22.663590Z",
     "iopub.status.busy": "2022-02-22T21:17:22.662730Z",
     "iopub.status.idle": "2022-02-22T21:17:22.666111Z",
     "shell.execute_reply": "2022-02-22T21:17:22.666625Z",
     "shell.execute_reply.started": "2022-02-22T21:12:43.642984Z"
    },
    "papermill": {
     "duration": 0.037015,
     "end_time": "2022-02-22T21:17:22.666807",
     "exception": false,
     "start_time": "2022-02-22T21:17:22.629792",
     "status": "completed"
    },
    "tags": []
   },
   "outputs": [
    {
     "name": "stdout",
     "output_type": "stream",
     "text": [
      "Categorical variables:\n",
      "['cut', 'color', 'clarity']\n"
     ]
    }
   ],
   "source": [
    "s = (data.dtypes ==\"object\")\n",
    "object_cols = list(s[s].index)\n",
    "print(\"Categorical variables:\")\n",
    "print(object_cols)"
   ]
  },
  {
   "cell_type": "code",
   "execution_count": 8,
   "id": "9517d393",
   "metadata": {
    "execution": {
     "iopub.execute_input": "2022-02-22T21:17:22.727235Z",
     "iopub.status.busy": "2022-02-22T21:17:22.726124Z",
     "iopub.status.idle": "2022-02-22T21:17:23.499244Z",
     "shell.execute_reply": "2022-02-22T21:17:23.498682Z",
     "shell.execute_reply.started": "2022-02-22T21:12:43.651952Z"
    },
    "papermill": {
     "duration": 0.805715,
     "end_time": "2022-02-22T21:17:23.499440",
     "exception": false,
     "start_time": "2022-02-22T21:17:22.693725",
     "status": "completed"
    },
    "tags": []
   },
   "outputs": [
    {
     "data": {
      "image/png": "[encoded data removed]",
      "text/plain": [
       "<Figure size 576x360 with 1 Axes>"
      ]
     },
     "metadata": {
      "needs_background": "light"
     },
     "output_type": "display_data"
    },
    {
     "name": "stdout",
     "output_type": "stream",
     "text": [
      "Ideal        21551\n",
      "Premium      13791\n",
      "Very Good    12082\n",
      "Good          4906\n",
      "Fair          1610\n",
      "Name: cut, dtype: int64\n",
      "-------------------------\n"
     ]
    },
    {
     "data": {
      "image/png": "[encoded data removed]",
      "text/plain": [
       "<Figure size 576x360 with 1 Axes>"
      ]
     },
     "metadata": {
      "needs_background": "light"
     },
     "output_type": "display_data"
    },
    {
     "name": "stdout",
     "output_type": "stream",
     "text": [
      "G    11292\n",
      "E     9797\n",
      "F     9542\n",
      "H     8304\n",
      "D     6775\n",
      "I     5422\n",
      "J     2808\n",
      "Name: color, dtype: int64\n",
      "-------------------------\n"
     ]
    },
    {
     "data": {
      "image/png": "[encoded data removed]",
      "text/plain": [
       "<Figure size 576x360 with 1 Axes>"
      ]
     },
     "metadata": {
      "needs_background": "light"
     },
     "output_type": "display_data"
    },
    {
     "name": "stdout",
     "output_type": "stream",
     "text": [
      "SI1     13065\n",
      "VS2     12258\n",
      "SI2      9194\n",
      "VS1      8171\n",
      "VVS2     5066\n",
      "VVS1     3655\n",
      "IF       1790\n",
      "I1        741\n",
      "Name: clarity, dtype: int64\n",
      "-------------------------\n"
     ]
    }
   ],
   "source": [
    "for c in object_cols:\n",
    "    plt.figure(figsize=(8,5))\n",
    "    \n",
    "    sns.countplot(x = data[c].to_numpy(),palette =\"Set3\")\n",
    "    plt.show()\n",
    "    print(data[c] .value_counts())\n",
    "    print(\"-\"*25)"
   ]
  },
  {
   "cell_type": "code",
   "execution_count": 9,
   "id": "5a4ef851",
   "metadata": {
    "execution": {
     "iopub.execute_input": "2022-02-22T21:17:23.569891Z",
     "iopub.status.busy": "2022-02-22T21:17:23.567101Z",
     "iopub.status.idle": "2022-02-22T21:17:24.126164Z",
     "shell.execute_reply": "2022-02-22T21:17:24.126721Z",
     "shell.execute_reply.started": "2022-02-22T21:12:44.432491Z"
    },
    "papermill": {
     "duration": 0.593798,
     "end_time": "2022-02-22T21:17:24.126909",
     "exception": false,
     "start_time": "2022-02-22T21:17:23.533111",
     "status": "completed"
    },
    "tags": []
   },
   "outputs": [
    {
     "data": {
      "image/png": "[encoded data removed]",
      "text/plain": [
       "<Figure size 720x504 with 2 Axes>"
      ]
     },
     "metadata": {
      "needs_background": "light"
     },
     "output_type": "display_data"
    }
   ],
   "source": [
    "plt.figure(figsize = (10,7))\n",
    "sns.heatmap(data.corr(), annot=True, cmap=\"Blues\");"
   ]
  },
  {
   "cell_type": "markdown",
   "id": "afc0712c",
   "metadata": {
    "papermill": {
     "duration": 0.032353,
     "end_time": "2022-02-22T21:17:24.192040",
     "exception": false,
     "start_time": "2022-02-22T21:17:24.159687",
     "status": "completed"
    },
    "tags": []
   },
   "source": [
    "<a id=\"5\"></a>\n",
    "<p style=\"background-color:#FFF;font-family:newtimeroman;color:#235c87;font-size:180%;text-align:center;border-style: solid;border-radius:8px 8px;border-color:#235c87;border-width: 5px;\">PREPROCESSING 🔨</p>"
   ]
  },
  {
   "cell_type": "code",
   "execution_count": 10,
   "id": "09f96b1b",
   "metadata": {
    "execution": {
     "iopub.execute_input": "2022-02-22T21:17:24.267137Z",
     "iopub.status.busy": "2022-02-22T21:17:24.264513Z",
     "iopub.status.idle": "2022-02-22T21:17:24.289783Z",
     "shell.execute_reply": "2022-02-22T21:17:24.290295Z",
     "shell.execute_reply.started": "2022-02-22T21:12:44.981486Z"
    },
    "papermill": {
     "duration": 0.066041,
     "end_time": "2022-02-22T21:17:24.290498",
     "exception": false,
     "start_time": "2022-02-22T21:17:24.224457",
     "status": "completed"
    },
    "tags": []
   },
   "outputs": [
    {
     "data": {
      "text/plain": [
       "(53920, 10)"
      ]
     },
     "execution_count": 10,
     "metadata": {},
     "output_type": "execute_result"
    }
   ],
   "source": [
    "data = data.drop(data[data[\"x\"]==0].index)\n",
    "data = data.drop(data[data[\"y\"]==0].index)\n",
    "data = data.drop(data[data[\"z\"]==0].index)\n",
    "data.shape"
   ]
  },
  {
   "cell_type": "code",
   "execution_count": 11,
   "id": "601998a2",
   "metadata": {
    "execution": {
     "iopub.execute_input": "2022-02-22T21:17:24.367454Z",
     "iopub.status.busy": "2022-02-22T21:17:24.359448Z",
     "iopub.status.idle": "2022-02-22T21:17:24.421763Z",
     "shell.execute_reply": "2022-02-22T21:17:24.421175Z",
     "shell.execute_reply.started": "2022-02-22T21:12:45.008931Z"
    },
    "papermill": {
     "duration": 0.099059,
     "end_time": "2022-02-22T21:17:24.421919",
     "exception": false,
     "start_time": "2022-02-22T21:17:24.322860",
     "status": "completed"
    },
    "tags": []
   },
   "outputs": [
    {
     "data": {
      "text/html": [
       "<div>\n",
       "<style scoped>\n",
       "    .dataframe tbody tr th:only-of-type {\n",
       "        vertical-align: middle;\n",
       "    }\n",
       "\n",
       "    .dataframe tbody tr th {\n",
       "        vertical-align: top;\n",
       "    }\n",
       "\n",
       "    .dataframe thead th {\n",
       "        text-align: right;\n",
       "    }\n",
       "</style>\n",
       "<table border=\"1\" class=\"dataframe\">\n",
       "  <thead>\n",
       "    <tr style=\"text-align: right;\">\n",
       "      <th></th>\n",
       "      <th>carat</th>\n",
       "      <th>cut</th>\n",
       "      <th>color</th>\n",
       "      <th>clarity</th>\n",
       "      <th>depth</th>\n",
       "      <th>table</th>\n",
       "      <th>price</th>\n",
       "      <th>x</th>\n",
       "      <th>y</th>\n",
       "      <th>z</th>\n",
       "    </tr>\n",
       "  </thead>\n",
       "  <tbody>\n",
       "    <tr>\n",
       "      <th>0</th>\n",
       "      <td>0.23</td>\n",
       "      <td>2</td>\n",
       "      <td>1</td>\n",
       "      <td>3</td>\n",
       "      <td>61.5</td>\n",
       "      <td>55.0</td>\n",
       "      <td>326</td>\n",
       "      <td>3.95</td>\n",
       "      <td>3.98</td>\n",
       "      <td>2.43</td>\n",
       "    </tr>\n",
       "    <tr>\n",
       "      <th>1</th>\n",
       "      <td>0.21</td>\n",
       "      <td>3</td>\n",
       "      <td>1</td>\n",
       "      <td>2</td>\n",
       "      <td>59.8</td>\n",
       "      <td>61.0</td>\n",
       "      <td>326</td>\n",
       "      <td>3.89</td>\n",
       "      <td>3.84</td>\n",
       "      <td>2.31</td>\n",
       "    </tr>\n",
       "    <tr>\n",
       "      <th>2</th>\n",
       "      <td>0.23</td>\n",
       "      <td>1</td>\n",
       "      <td>1</td>\n",
       "      <td>4</td>\n",
       "      <td>56.9</td>\n",
       "      <td>65.0</td>\n",
       "      <td>327</td>\n",
       "      <td>4.05</td>\n",
       "      <td>4.07</td>\n",
       "      <td>2.31</td>\n",
       "    </tr>\n",
       "    <tr>\n",
       "      <th>3</th>\n",
       "      <td>0.29</td>\n",
       "      <td>3</td>\n",
       "      <td>5</td>\n",
       "      <td>5</td>\n",
       "      <td>62.4</td>\n",
       "      <td>58.0</td>\n",
       "      <td>334</td>\n",
       "      <td>4.20</td>\n",
       "      <td>4.23</td>\n",
       "      <td>2.63</td>\n",
       "    </tr>\n",
       "    <tr>\n",
       "      <th>4</th>\n",
       "      <td>0.31</td>\n",
       "      <td>1</td>\n",
       "      <td>6</td>\n",
       "      <td>3</td>\n",
       "      <td>63.3</td>\n",
       "      <td>58.0</td>\n",
       "      <td>335</td>\n",
       "      <td>4.34</td>\n",
       "      <td>4.35</td>\n",
       "      <td>2.75</td>\n",
       "    </tr>\n",
       "  </tbody>\n",
       "</table>\n",
       "</div>"
      ],
      "text/plain": [
       "   carat  cut  color  clarity  depth  table  price     x     y     z\n",
       "0   0.23    2      1        3   61.5   55.0    326  3.95  3.98  2.43\n",
       "1   0.21    3      1        2   59.8   61.0    326  3.89  3.84  2.31\n",
       "2   0.23    1      1        4   56.9   65.0    327  4.05  4.07  2.31\n",
       "3   0.29    3      5        5   62.4   58.0    334  4.20  4.23  2.63\n",
       "4   0.31    1      6        3   63.3   58.0    335  4.34  4.35  2.75"
      ]
     },
     "execution_count": 11,
     "metadata": {},
     "output_type": "execute_result"
    }
   ],
   "source": [
    "label_encoder = LabelEncoder()\n",
    "for col in object_cols:\n",
    "    data[col] = label_encoder.fit_transform(data[col])\n",
    "data.head()"
   ]
  },
  {
   "cell_type": "code",
   "execution_count": 12,
   "id": "d04654e2",
   "metadata": {
    "execution": {
     "iopub.execute_input": "2022-02-22T21:17:24.498234Z",
     "iopub.status.busy": "2022-02-22T21:17:24.497155Z",
     "iopub.status.idle": "2022-02-22T21:17:26.206068Z",
     "shell.execute_reply": "2022-02-22T21:17:26.205156Z",
     "shell.execute_reply.started": "2022-02-22T21:12:45.077332Z"
    },
    "papermill": {
     "duration": 1.749135,
     "end_time": "2022-02-22T21:17:26.206217",
     "exception": false,
     "start_time": "2022-02-22T21:17:24.457082",
     "status": "completed"
    },
    "tags": []
   },
   "outputs": [
    {
     "data": {
      "image/png": "[encoded data removed]",
      "text/plain": [
       "<Figure size 504x288 with 1 Axes>"
      ]
     },
     "metadata": {
      "needs_background": "light"
     },
     "output_type": "display_data"
    },
    {
     "data": {
      "image/png": "[encoded data removed]",
      "text/plain": [
       "<Figure size 504x288 with 1 Axes>"
      ]
     },
     "metadata": {
      "needs_background": "light"
     },
     "output_type": "display_data"
    },
    {
     "data": {
      "image/png": "[encoded data removed]",
      "text/plain": [
       "<Figure size 504x288 with 1 Axes>"
      ]
     },
     "metadata": {
      "needs_background": "light"
     },
     "output_type": "display_data"
    },
    {
     "data": {
      "image/png": "[encoded data removed]",
      "text/plain": [
       "<Figure size 504x288 with 1 Axes>"
      ]
     },
     "metadata": {
      "needs_background": "light"
     },
     "output_type": "display_data"
    },
    {
     "data": {
      "image/png": "[encoded data removed]",
      "text/plain": [
       "<Figure size 504x288 with 1 Axes>"
      ]
     },
     "metadata": {
      "needs_background": "light"
     },
     "output_type": "display_data"
    },
    {
     "data": {
      "image/png": "[encoded data removed]",
      "text/plain": [
       "<Figure size 504x288 with 1 Axes>"
      ]
     },
     "metadata": {
      "needs_background": "light"
     },
     "output_type": "display_data"
    },
    {
     "data": {
      "image/png": "[encoded data removed]",
      "text/plain": [
       "<Figure size 504x288 with 1 Axes>"
      ]
     },
     "metadata": {
      "needs_background": "light"
     },
     "output_type": "display_data"
    },
    {
     "data": {
      "image/png": "[encoded data removed]",
      "text/plain": [
       "<Figure size 504x288 with 1 Axes>"
      ]
     },
     "metadata": {
      "needs_background": "light"
     },
     "output_type": "display_data"
    },
    {
     "data": {
      "image/png": "[encoded data removed]",
      "text/plain": [
       "<Figure size 504x288 with 1 Axes>"
      ]
     },
     "metadata": {
      "needs_background": "light"
     },
     "output_type": "display_data"
    },
    {
     "data": {
      "image/png": "[encoded data removed]",
      "text/plain": [
       "<Figure size 504x288 with 1 Axes>"
      ]
     },
     "metadata": {
      "needs_background": "light"
     },
     "output_type": "display_data"
    }
   ],
   "source": [
    "num_cols = data.keys()\n",
    "for i in num_cols:\n",
    "    plt.figure(figsize=(7,4))\n",
    "    sns.boxplot(x=data[i],palette=\"Set2\");\n",
    "    plt.show()"
   ]
  },
  {
   "cell_type": "code",
   "execution_count": 13,
   "id": "4154f2be",
   "metadata": {
    "execution": {
     "iopub.execute_input": "2022-02-22T21:17:26.291398Z",
     "iopub.status.busy": "2022-02-22T21:17:26.290723Z",
     "iopub.status.idle": "2022-02-22T21:17:26.295287Z",
     "shell.execute_reply": "2022-02-22T21:17:26.295919Z",
     "shell.execute_reply.started": "2022-02-22T21:12:46.677276Z"
    },
    "papermill": {
     "duration": 0.048684,
     "end_time": "2022-02-22T21:17:26.296111",
     "exception": false,
     "start_time": "2022-02-22T21:17:26.247427",
     "status": "completed"
    },
    "tags": []
   },
   "outputs": [],
   "source": [
    "def outlier_th(dataframe, col_name, q1, q3):\n",
    "    q1 = dataframe[col_name].quantile(q1)\n",
    "    q3 = dataframe[col_name].quantile(q3)\n",
    "    iqr = q3 - q1\n",
    "    low_limit = q1 - 1.5 * iqr\n",
    "    up_limit = q3 + 1.5 * iqr\n",
    "   \n",
    "    return low_limit, up_limit"
   ]
  },
  {
   "cell_type": "code",
   "execution_count": 14,
   "id": "a590fd14",
   "metadata": {
    "execution": {
     "iopub.execute_input": "2022-02-22T21:17:26.381124Z",
     "iopub.status.busy": "2022-02-22T21:17:26.380515Z",
     "iopub.status.idle": "2022-02-22T21:17:26.444886Z",
     "shell.execute_reply": "2022-02-22T21:17:26.444251Z",
     "shell.execute_reply.started": "2022-02-22T21:12:46.686282Z"
    },
    "papermill": {
     "duration": 0.107584,
     "end_time": "2022-02-22T21:17:26.445051",
     "exception": false,
     "start_time": "2022-02-22T21:17:26.337467",
     "status": "completed"
    },
    "tags": []
   },
   "outputs": [],
   "source": [
    "for c in num_cols:\n",
    "    low, up = outlier_th(data, c ,q1=0.25, q3=0.75)\n",
    "    data = data[~((data[c] < low) | (data[c] > up))]"
   ]
  },
  {
   "cell_type": "code",
   "execution_count": 15,
   "id": "4bf4fc25",
   "metadata": {
    "execution": {
     "iopub.execute_input": "2022-02-22T21:17:26.529121Z",
     "iopub.status.busy": "2022-02-22T21:17:26.528450Z",
     "iopub.status.idle": "2022-02-22T21:17:27.638190Z",
     "shell.execute_reply": "2022-02-22T21:17:27.638762Z",
     "shell.execute_reply.started": "2022-02-22T21:12:46.762157Z"
    },
    "papermill": {
     "duration": 1.153543,
     "end_time": "2022-02-22T21:17:27.638945",
     "exception": false,
     "start_time": "2022-02-22T21:17:26.485402",
     "status": "completed"
    },
    "tags": []
   },
   "outputs": [
    {
     "data": {
      "image/png": "[encoded data removed]",
      "text/plain": [
       "<Figure size 432x288 with 1 Axes>"
      ]
     },
     "metadata": {
      "needs_background": "light"
     },
     "output_type": "display_data"
    },
    {
     "data": {
      "image/png": "[encoded data removed]",
      "text/plain": [
       "<Figure size 432x288 with 1 Axes>"
      ]
     },
     "metadata": {
      "needs_background": "light"
     },
     "output_type": "display_data"
    },
    {
     "data": {
      "image/png": "[encoded data removed]",
      "text/plain": [
       "<Figure size 432x288 with 1 Axes>"
      ]
     },
     "metadata": {
      "needs_background": "light"
     },
     "output_type": "display_data"
    },
    {
     "data": {
      "image/png": "[encoded data removed]",
      "text/plain": [
       "<Figure size 432x288 with 1 Axes>"
      ]
     },
     "metadata": {
      "needs_background": "light"
     },
     "output_type": "display_data"
    },
    {
     "data": {
      "image/png": "[encoded data removed]",
      "text/plain": [
       "<Figure size 432x288 with 1 Axes>"
      ]
     },
     "metadata": {
      "needs_background": "light"
     },
     "output_type": "display_data"
    },
    {
     "data": {
      "image/png": "[encoded data removed]",
      "text/plain": [
       "<Figure size 432x288 with 1 Axes>"
      ]
     },
     "metadata": {
      "needs_background": "light"
     },
     "output_type": "display_data"
    },
    {
     "data": {
      "image/png": "[encoded data removed]",
      "text/plain": [
       "<Figure size 432x288 with 1 Axes>"
      ]
     },
     "metadata": {
      "needs_background": "light"
     },
     "output_type": "display_data"
    },
    {
     "data": {
      "image/png": "[encoded data removed]",
      "text/plain": [
       "<Figure size 432x288 with 1 Axes>"
      ]
     },
     "metadata": {
      "needs_background": "light"
     },
     "output_type": "display_data"
    },
    {
     "data": {
      "image/png": "[encoded data removed]",
      "text/plain": [
       "<Figure size 432x288 with 1 Axes>"
      ]
     },
     "metadata": {
      "needs_background": "light"
     },
     "output_type": "display_data"
    },
    {
     "data": {
      "image/png": "[encoded data removed]",
      "text/plain": [
       "<Figure size 432x288 with 1 Axes>"
      ]
     },
     "metadata": {
      "needs_background": "light"
     },
     "output_type": "display_data"
    }
   ],
   "source": [
    "for c in num_cols:\n",
    "    plt.figure(figsize=(6,4))\n",
    "    sns.boxplot(x=data[c]);\n",
    "    plt.show()"
   ]
  },
  {
   "cell_type": "markdown",
   "id": "3eb09e46",
   "metadata": {
    "papermill": {
     "duration": 0.048934,
     "end_time": "2022-02-22T21:17:27.737776",
     "exception": false,
     "start_time": "2022-02-22T21:17:27.688842",
     "status": "completed"
    },
    "tags": []
   },
   "source": [
    "<a id=\"6\"></a>\n",
    "<p style=\"background-color:#FFF;font-family:newtimeroman;color:#235c87;font-size:180%;text-align:center;border-style: solid;border-radius:8px 8px;border-color:#235c87;border-width: 5px;\">MODELING 🦾</p>"
   ]
  },
  {
   "cell_type": "code",
   "execution_count": 16,
   "id": "833fdb1d",
   "metadata": {
    "execution": {
     "iopub.execute_input": "2022-02-22T21:17:27.842400Z",
     "iopub.status.busy": "2022-02-22T21:17:27.841693Z",
     "iopub.status.idle": "2022-02-22T21:17:27.843916Z",
     "shell.execute_reply": "2022-02-22T21:17:27.844440Z",
     "shell.execute_reply.started": "2022-02-22T21:12:48.495423Z"
    },
    "papermill": {
     "duration": 0.058857,
     "end_time": "2022-02-22T21:17:27.844617",
     "exception": false,
     "start_time": "2022-02-22T21:17:27.785760",
     "status": "completed"
    },
    "tags": []
   },
   "outputs": [],
   "source": [
    "X = data.drop(\"price\", axis = \"columns\")\n",
    "y = data[\"price\"]"
   ]
  },
  {
   "cell_type": "code",
   "execution_count": 17,
   "id": "5f1937e3",
   "metadata": {
    "execution": {
     "iopub.execute_input": "2022-02-22T21:17:27.943647Z",
     "iopub.status.busy": "2022-02-22T21:17:27.942944Z",
     "iopub.status.idle": "2022-02-22T21:17:27.957677Z",
     "shell.execute_reply": "2022-02-22T21:17:27.958208Z",
     "shell.execute_reply.started": "2022-02-22T21:12:48.504874Z"
    },
    "papermill": {
     "duration": 0.065592,
     "end_time": "2022-02-22T21:17:27.958409",
     "exception": false,
     "start_time": "2022-02-22T21:17:27.892817",
     "status": "completed"
    },
    "tags": []
   },
   "outputs": [],
   "source": [
    "X_train, X_test, y_train, y_test = train_test_split(X, y, test_size=0.25, random_state=42)"
   ]
  },
  {
   "cell_type": "code",
   "execution_count": 18,
   "id": "13b9f7d0",
   "metadata": {
    "execution": {
     "iopub.execute_input": "2022-02-22T21:17:28.059741Z",
     "iopub.status.busy": "2022-02-22T21:17:28.058745Z",
     "iopub.status.idle": "2022-02-22T21:17:28.098609Z",
     "shell.execute_reply": "2022-02-22T21:17:28.099559Z",
     "shell.execute_reply.started": "2022-02-22T21:12:48.529094Z"
    },
    "papermill": {
     "duration": 0.093855,
     "end_time": "2022-02-22T21:17:28.099850",
     "exception": false,
     "start_time": "2022-02-22T21:17:28.005995",
     "status": "completed"
    },
    "tags": []
   },
   "outputs": [],
   "source": [
    "model = LinearRegression()\n",
    "model.fit(X_train, y_train)\n",
    "y_pred = model.predict(X_test)"
   ]
  },
  {
   "cell_type": "code",
   "execution_count": 19,
   "id": "8f5cde35",
   "metadata": {
    "execution": {
     "iopub.execute_input": "2022-02-22T21:17:28.251676Z",
     "iopub.status.busy": "2022-02-22T21:17:28.250866Z",
     "iopub.status.idle": "2022-02-22T21:17:28.257700Z",
     "shell.execute_reply": "2022-02-22T21:17:28.258824Z",
     "shell.execute_reply.started": "2022-02-22T21:12:48.553914Z"
    },
    "papermill": {
     "duration": 0.070609,
     "end_time": "2022-02-22T21:17:28.259161",
     "exception": false,
     "start_time": "2022-02-22T21:17:28.188552",
     "status": "completed"
    },
    "tags": []
   },
   "outputs": [
    {
     "name": "stdout",
     "output_type": "stream",
     "text": [
      "R^2 :  0.8945290386682037\n",
      "MSE : 713673.0690581456\n",
      "RMSE: 844.7917311729238\n"
     ]
    }
   ],
   "source": [
    "print(\"R^2 : \", r2_score(y_test, y_pred))\n",
    "print(\"MSE :\", mean_squared_error(y_test,y_pred))\n",
    "print(\"RMSE:\",np.sqrt(mean_squared_error(y_test, y_pred)))"
   ]
  },
  {
   "cell_type": "code",
   "execution_count": 20,
   "id": "6b9fd51d",
   "metadata": {
    "execution": {
     "iopub.execute_input": "2022-02-22T21:17:28.360633Z",
     "iopub.status.busy": "2022-02-22T21:17:28.359940Z",
     "iopub.status.idle": "2022-02-22T21:17:29.443734Z",
     "shell.execute_reply": "2022-02-22T21:17:29.444244Z",
     "shell.execute_reply.started": "2022-02-22T21:12:48.570852Z"
    },
    "papermill": {
     "duration": 1.136202,
     "end_time": "2022-02-22T21:17:29.444434",
     "exception": false,
     "start_time": "2022-02-22T21:17:28.308232",
     "status": "completed"
    },
    "tags": []
   },
   "outputs": [
    {
     "data": {
      "image/png": "[encoded data removed]",
      "text/plain": [
       "<Figure size 576x576 with 1 Axes>"
      ]
     },
     "metadata": {
      "needs_background": "light"
     },
     "output_type": "display_data"
    }
   ],
   "source": [
    "plt.figure(figsize=(8,8))\n",
    "plt.scatter(y_test, y_pred, c=\"#7ea0c3\")\n",
    "plt.yscale('log')\n",
    "plt.xscale('log')\n",
    "\n",
    "p1 = max(max(y_pred), max(y_test))\n",
    "p2 = min(min(y_pred), min(y_test))\n",
    "plt.plot([p1, p2], [p1, p2], \"k-\")\n",
    "plt.xlabel('True Values', fontsize=10)\n",
    "plt.ylabel('Predictions', fontsize=10)\n",
    "plt.axis('equal')\n",
    "plt.show()"
   ]
  }
 ],
 "metadata": {
  "kernelspec": {
   "display_name": "Python 3",
   "language": "python",
   "name": "python3"
  },
  "language_info": {
   "codemirror_mode": {
    "name": "ipython",
    "version": 3
   },
   "file_extension": ".py",
   "mimetype": "text/x-python",
   "name": "python",
   "nbconvert_exporter": "python",
   "pygments_lexer": "ipython3",
   "version": "3.7.12"
  },
  "papermill": {
   "default_parameters": {},
   "duration": 20.25118,
   "end_time": "2022-02-22T21:17:30.205814",
   "environment_variables": {},
   "exception": null,
   "input_path": "__notebook__.ipynb",
   "output_path": "__notebook__.ipynb",
   "parameters": {},
   "start_time": "2022-02-22T21:17:09.954634",
   "version": "2.3.3"
  }
 },
 "nbformat": 4,
 "nbformat_minor": 5
}
