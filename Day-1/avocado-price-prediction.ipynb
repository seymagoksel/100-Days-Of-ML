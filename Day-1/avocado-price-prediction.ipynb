{
 "cells": [
  {
   "cell_type": "markdown",
   "metadata": {},
   "source": [
    "<p style=\"background-color:#FFF;font-family:newtimeroman;color:#347C17;font-size:160%;text-align:center;border-style: solid;border-radius:8px 8px;border-color:#347C17;border-width: 5px;\"> AVOCADO PRICE PREDICTION 🥑</p>\n",
    "\n",
    "<center><img src = \"https://wallpaperaccess.com/thumb/1348928.jpg\"></center>\n",
    "<p></p>\n",
    "\n",
    "<p style=\"background-color:#FFF;font-family:newtimeroman;color:#347C17;font-size:180%;text-align:center;border-style: solid;border-radius:8px 8px;border-color:#347C17;border-width: 5px;\"> ABOUT DATASET </p>\n",
    "\n",
    "**Data Labels**\n",
    "* <b> Date : </b> The date of the observation\n",
    "* <b> AveragePrice : </b> The average price of a single avocado\n",
    "* <b> type : </b> Conventional or organic\n",
    "* <b> year : </b> The year\n",
    "* <b> Region : </b> The city or region of the observation\n",
    "* <b> Total Volume : </b> Total number of avocados sold\n",
    "* <b> 4046 : </b> Total number of avocados with PLU 4046 sold\n",
    "* <b> 4225 : </b> Total number of avocados with PLU 4225 sold\n",
    "* <b> 4770 : </b> Total number of avocados with PLU 4770 sold\n",
    "\n",
    "The Product Lookup codes (PLU’s) in the table are only for Hass avocados. Other varieties of avocados (e.g. greenskins) are not included in this table.\n",
    "\n",
    "<p style=\"background-color:#FFF;font-family:newtimeroman;color:#347C17;font-size:180%;text-align:center;border-style: solid;border-radius:8px 8px;border-color:#347C17;border-width: 5px;\"> IMPORTING LIBRARIES AND LOADING DATA </p>"
   ]
  },
  {
   "cell_type": "code",
   "execution_count": 1,
   "metadata": {
    "execution": {
     "iopub.execute_input": "2022-02-12T18:15:19.769401Z",
     "iopub.status.busy": "2022-02-12T18:15:19.768871Z",
     "iopub.status.idle": "2022-02-12T18:15:19.775129Z",
     "shell.execute_reply": "2022-02-12T18:15:19.774298Z",
     "shell.execute_reply.started": "2022-02-12T18:15:19.769354Z"
    }
   },
   "outputs": [],
   "source": [
    "import numpy as np\n",
    "import pandas as pd\n",
    "import matplotlib.pyplot as plt\n",
    "import seaborn as sns\n",
    "\n",
    "from sklearn.preprocessing import LabelEncoder, StandardScaler\n",
    "from sklearn.model_selection import train_test_split, GridSearchCV\n",
    "from sklearn.ensemble import RandomForestRegressor\n",
    "from sklearn import metrics"
   ]
  },
  {
   "cell_type": "code",
   "execution_count": 2,
   "metadata": {
    "execution": {
     "iopub.execute_input": "2022-02-12T18:15:19.776780Z",
     "iopub.status.busy": "2022-02-12T18:15:19.776381Z",
     "iopub.status.idle": "2022-02-12T18:15:19.848351Z",
     "shell.execute_reply": "2022-02-12T18:15:19.847370Z",
     "shell.execute_reply.started": "2022-02-12T18:15:19.776739Z"
    }
   },
   "outputs": [
    {
     "data": {
      "text/html": [
       "<div>\n",
       "<style scoped>\n",
       "    .dataframe tbody tr th:only-of-type {\n",
       "        vertical-align: middle;\n",
       "    }\n",
       "\n",
       "    .dataframe tbody tr th {\n",
       "        vertical-align: top;\n",
       "    }\n",
       "\n",
       "    .dataframe thead th {\n",
       "        text-align: right;\n",
       "    }\n",
       "</style>\n",
       "<table border=\"1\" class=\"dataframe\">\n",
       "  <thead>\n",
       "    <tr style=\"text-align: right;\">\n",
       "      <th></th>\n",
       "      <th>Unnamed: 0</th>\n",
       "      <th>Date</th>\n",
       "      <th>AveragePrice</th>\n",
       "      <th>Total Volume</th>\n",
       "      <th>4046</th>\n",
       "      <th>4225</th>\n",
       "      <th>4770</th>\n",
       "      <th>Total Bags</th>\n",
       "      <th>Small Bags</th>\n",
       "      <th>Large Bags</th>\n",
       "      <th>XLarge Bags</th>\n",
       "      <th>type</th>\n",
       "      <th>year</th>\n",
       "      <th>region</th>\n",
       "    </tr>\n",
       "  </thead>\n",
       "  <tbody>\n",
       "    <tr>\n",
       "      <th>0</th>\n",
       "      <td>0</td>\n",
       "      <td>2015-12-27</td>\n",
       "      <td>1.33</td>\n",
       "      <td>64236.62</td>\n",
       "      <td>1036.74</td>\n",
       "      <td>54454.85</td>\n",
       "      <td>48.16</td>\n",
       "      <td>8696.87</td>\n",
       "      <td>8603.62</td>\n",
       "      <td>93.25</td>\n",
       "      <td>0.0</td>\n",
       "      <td>conventional</td>\n",
       "      <td>2015</td>\n",
       "      <td>Albany</td>\n",
       "    </tr>\n",
       "    <tr>\n",
       "      <th>1</th>\n",
       "      <td>1</td>\n",
       "      <td>2015-12-20</td>\n",
       "      <td>1.35</td>\n",
       "      <td>54876.98</td>\n",
       "      <td>674.28</td>\n",
       "      <td>44638.81</td>\n",
       "      <td>58.33</td>\n",
       "      <td>9505.56</td>\n",
       "      <td>9408.07</td>\n",
       "      <td>97.49</td>\n",
       "      <td>0.0</td>\n",
       "      <td>conventional</td>\n",
       "      <td>2015</td>\n",
       "      <td>Albany</td>\n",
       "    </tr>\n",
       "    <tr>\n",
       "      <th>2</th>\n",
       "      <td>2</td>\n",
       "      <td>2015-12-13</td>\n",
       "      <td>0.93</td>\n",
       "      <td>118220.22</td>\n",
       "      <td>794.70</td>\n",
       "      <td>109149.67</td>\n",
       "      <td>130.50</td>\n",
       "      <td>8145.35</td>\n",
       "      <td>8042.21</td>\n",
       "      <td>103.14</td>\n",
       "      <td>0.0</td>\n",
       "      <td>conventional</td>\n",
       "      <td>2015</td>\n",
       "      <td>Albany</td>\n",
       "    </tr>\n",
       "    <tr>\n",
       "      <th>3</th>\n",
       "      <td>3</td>\n",
       "      <td>2015-12-06</td>\n",
       "      <td>1.08</td>\n",
       "      <td>78992.15</td>\n",
       "      <td>1132.00</td>\n",
       "      <td>71976.41</td>\n",
       "      <td>72.58</td>\n",
       "      <td>5811.16</td>\n",
       "      <td>5677.40</td>\n",
       "      <td>133.76</td>\n",
       "      <td>0.0</td>\n",
       "      <td>conventional</td>\n",
       "      <td>2015</td>\n",
       "      <td>Albany</td>\n",
       "    </tr>\n",
       "    <tr>\n",
       "      <th>4</th>\n",
       "      <td>4</td>\n",
       "      <td>2015-11-29</td>\n",
       "      <td>1.28</td>\n",
       "      <td>51039.60</td>\n",
       "      <td>941.48</td>\n",
       "      <td>43838.39</td>\n",
       "      <td>75.78</td>\n",
       "      <td>6183.95</td>\n",
       "      <td>5986.26</td>\n",
       "      <td>197.69</td>\n",
       "      <td>0.0</td>\n",
       "      <td>conventional</td>\n",
       "      <td>2015</td>\n",
       "      <td>Albany</td>\n",
       "    </tr>\n",
       "    <tr>\n",
       "      <th>5</th>\n",
       "      <td>5</td>\n",
       "      <td>2015-11-22</td>\n",
       "      <td>1.26</td>\n",
       "      <td>55979.78</td>\n",
       "      <td>1184.27</td>\n",
       "      <td>48067.99</td>\n",
       "      <td>43.61</td>\n",
       "      <td>6683.91</td>\n",
       "      <td>6556.47</td>\n",
       "      <td>127.44</td>\n",
       "      <td>0.0</td>\n",
       "      <td>conventional</td>\n",
       "      <td>2015</td>\n",
       "      <td>Albany</td>\n",
       "    </tr>\n",
       "    <tr>\n",
       "      <th>6</th>\n",
       "      <td>6</td>\n",
       "      <td>2015-11-15</td>\n",
       "      <td>0.99</td>\n",
       "      <td>83453.76</td>\n",
       "      <td>1368.92</td>\n",
       "      <td>73672.72</td>\n",
       "      <td>93.26</td>\n",
       "      <td>8318.86</td>\n",
       "      <td>8196.81</td>\n",
       "      <td>122.05</td>\n",
       "      <td>0.0</td>\n",
       "      <td>conventional</td>\n",
       "      <td>2015</td>\n",
       "      <td>Albany</td>\n",
       "    </tr>\n",
       "    <tr>\n",
       "      <th>7</th>\n",
       "      <td>7</td>\n",
       "      <td>2015-11-08</td>\n",
       "      <td>0.98</td>\n",
       "      <td>109428.33</td>\n",
       "      <td>703.75</td>\n",
       "      <td>101815.36</td>\n",
       "      <td>80.00</td>\n",
       "      <td>6829.22</td>\n",
       "      <td>6266.85</td>\n",
       "      <td>562.37</td>\n",
       "      <td>0.0</td>\n",
       "      <td>conventional</td>\n",
       "      <td>2015</td>\n",
       "      <td>Albany</td>\n",
       "    </tr>\n",
       "    <tr>\n",
       "      <th>8</th>\n",
       "      <td>8</td>\n",
       "      <td>2015-11-01</td>\n",
       "      <td>1.02</td>\n",
       "      <td>99811.42</td>\n",
       "      <td>1022.15</td>\n",
       "      <td>87315.57</td>\n",
       "      <td>85.34</td>\n",
       "      <td>11388.36</td>\n",
       "      <td>11104.53</td>\n",
       "      <td>283.83</td>\n",
       "      <td>0.0</td>\n",
       "      <td>conventional</td>\n",
       "      <td>2015</td>\n",
       "      <td>Albany</td>\n",
       "    </tr>\n",
       "    <tr>\n",
       "      <th>9</th>\n",
       "      <td>9</td>\n",
       "      <td>2015-10-25</td>\n",
       "      <td>1.07</td>\n",
       "      <td>74338.76</td>\n",
       "      <td>842.40</td>\n",
       "      <td>64757.44</td>\n",
       "      <td>113.00</td>\n",
       "      <td>8625.92</td>\n",
       "      <td>8061.47</td>\n",
       "      <td>564.45</td>\n",
       "      <td>0.0</td>\n",
       "      <td>conventional</td>\n",
       "      <td>2015</td>\n",
       "      <td>Albany</td>\n",
       "    </tr>\n",
       "  </tbody>\n",
       "</table>\n",
       "</div>"
      ],
      "text/plain": [
       "   Unnamed: 0        Date  AveragePrice  Total Volume     4046       4225  \\\n",
       "0           0  2015-12-27          1.33      64236.62  1036.74   54454.85   \n",
       "1           1  2015-12-20          1.35      54876.98   674.28   44638.81   \n",
       "2           2  2015-12-13          0.93     118220.22   794.70  109149.67   \n",
       "3           3  2015-12-06          1.08      78992.15  1132.00   71976.41   \n",
       "4           4  2015-11-29          1.28      51039.60   941.48   43838.39   \n",
       "5           5  2015-11-22          1.26      55979.78  1184.27   48067.99   \n",
       "6           6  2015-11-15          0.99      83453.76  1368.92   73672.72   \n",
       "7           7  2015-11-08          0.98     109428.33   703.75  101815.36   \n",
       "8           8  2015-11-01          1.02      99811.42  1022.15   87315.57   \n",
       "9           9  2015-10-25          1.07      74338.76   842.40   64757.44   \n",
       "\n",
       "     4770  Total Bags  Small Bags  Large Bags  XLarge Bags          type  \\\n",
       "0   48.16     8696.87     8603.62       93.25          0.0  conventional   \n",
       "1   58.33     9505.56     9408.07       97.49          0.0  conventional   \n",
       "2  130.50     8145.35     8042.21      103.14          0.0  conventional   \n",
       "3   72.58     5811.16     5677.40      133.76          0.0  conventional   \n",
       "4   75.78     6183.95     5986.26      197.69          0.0  conventional   \n",
       "5   43.61     6683.91     6556.47      127.44          0.0  conventional   \n",
       "6   93.26     8318.86     8196.81      122.05          0.0  conventional   \n",
       "7   80.00     6829.22     6266.85      562.37          0.0  conventional   \n",
       "8   85.34    11388.36    11104.53      283.83          0.0  conventional   \n",
       "9  113.00     8625.92     8061.47      564.45          0.0  conventional   \n",
       "\n",
       "   year  region  \n",
       "0  2015  Albany  \n",
       "1  2015  Albany  \n",
       "2  2015  Albany  \n",
       "3  2015  Albany  \n",
       "4  2015  Albany  \n",
       "5  2015  Albany  \n",
       "6  2015  Albany  \n",
       "7  2015  Albany  \n",
       "8  2015  Albany  \n",
       "9  2015  Albany  "
      ]
     },
     "execution_count": 2,
     "metadata": {},
     "output_type": "execute_result"
    }
   ],
   "source": [
    "data = pd.read_csv('avocado.csv')\n",
    "data.head(10)"
   ]
  },
  {
   "cell_type": "markdown",
   "metadata": {},
   "source": [
    "<p style=\"background-color:#FFF;font-family:newtimeroman;color:#347C17;font-size:180%;text-align:center;border-style: solid;border-radius:8px 8px;border-color:#347C17;border-width: 5px;\"> EXPLORATORY DATA ANALYSIS 🔍  </p>"
   ]
  },
  {
   "cell_type": "code",
   "execution_count": 3,
   "metadata": {
    "execution": {
     "iopub.execute_input": "2022-02-12T18:15:19.850152Z",
     "iopub.status.busy": "2022-02-12T18:15:19.849862Z",
     "iopub.status.idle": "2022-02-12T18:15:19.867040Z",
     "shell.execute_reply": "2022-02-12T18:15:19.866074Z",
     "shell.execute_reply.started": "2022-02-12T18:15:19.850122Z"
    }
   },
   "outputs": [
    {
     "name": "stdout",
     "output_type": "stream",
     "text": [
      "<class 'pandas.core.frame.DataFrame'>\n",
      "RangeIndex: 18249 entries, 0 to 18248\n",
      "Data columns (total 14 columns):\n",
      " #   Column        Non-Null Count  Dtype  \n",
      "---  ------        --------------  -----  \n",
      " 0   Unnamed: 0    18249 non-null  int64  \n",
      " 1   Date          18249 non-null  object \n",
      " 2   AveragePrice  18249 non-null  float64\n",
      " 3   Total Volume  18249 non-null  float64\n",
      " 4   4046          18249 non-null  float64\n",
      " 5   4225          18249 non-null  float64\n",
      " 6   4770          18249 non-null  float64\n",
      " 7   Total Bags    18249 non-null  float64\n",
      " 8   Small Bags    18249 non-null  float64\n",
      " 9   Large Bags    18249 non-null  float64\n",
      " 10  XLarge Bags   18249 non-null  float64\n",
      " 11  type          18249 non-null  object \n",
      " 12  year          18249 non-null  int64  \n",
      " 13  region        18249 non-null  object \n",
      "dtypes: float64(9), int64(2), object(3)\n",
      "memory usage: 1.9+ MB\n"
     ]
    }
   ],
   "source": [
    "data.info()"
   ]
  },
  {
   "cell_type": "code",
   "execution_count": 4,
   "metadata": {
    "execution": {
     "iopub.execute_input": "2022-02-12T18:15:19.869093Z",
     "iopub.status.busy": "2022-02-12T18:15:19.868751Z",
     "iopub.status.idle": "2022-02-12T18:15:19.880174Z",
     "shell.execute_reply": "2022-02-12T18:15:19.879448Z",
     "shell.execute_reply.started": "2022-02-12T18:15:19.869017Z"
    }
   },
   "outputs": [
    {
     "data": {
      "text/plain": [
       "Unnamed: 0      0\n",
       "Date            0\n",
       "AveragePrice    0\n",
       "Total Volume    0\n",
       "4046            0\n",
       "4225            0\n",
       "4770            0\n",
       "Total Bags      0\n",
       "Small Bags      0\n",
       "Large Bags      0\n",
       "XLarge Bags     0\n",
       "type            0\n",
       "year            0\n",
       "region          0\n",
       "dtype: int64"
      ]
     },
     "execution_count": 4,
     "metadata": {},
     "output_type": "execute_result"
    }
   ],
   "source": [
    "nan = data.isnull().sum()\n",
    "nan"
   ]
  },
  {
   "cell_type": "code",
   "execution_count": 5,
   "metadata": {
    "execution": {
     "iopub.execute_input": "2022-02-12T18:15:19.881676Z",
     "iopub.status.busy": "2022-02-12T18:15:19.881406Z",
     "iopub.status.idle": "2022-02-12T18:15:19.907563Z",
     "shell.execute_reply": "2022-02-12T18:15:19.906753Z",
     "shell.execute_reply.started": "2022-02-12T18:15:19.881644Z"
    }
   },
   "outputs": [
    {
     "data": {
      "text/html": [
       "<div>\n",
       "<style scoped>\n",
       "    .dataframe tbody tr th:only-of-type {\n",
       "        vertical-align: middle;\n",
       "    }\n",
       "\n",
       "    .dataframe tbody tr th {\n",
       "        vertical-align: top;\n",
       "    }\n",
       "\n",
       "    .dataframe thead th {\n",
       "        text-align: right;\n",
       "    }\n",
       "</style>\n",
       "<table border=\"1\" class=\"dataframe\">\n",
       "  <thead>\n",
       "    <tr style=\"text-align: right;\">\n",
       "      <th></th>\n",
       "      <th>Unnamed: 0</th>\n",
       "      <th>Date</th>\n",
       "      <th>AveragePrice</th>\n",
       "      <th>Total Volume</th>\n",
       "      <th>4046</th>\n",
       "      <th>4225</th>\n",
       "      <th>4770</th>\n",
       "      <th>Total Bags</th>\n",
       "      <th>Small Bags</th>\n",
       "      <th>Large Bags</th>\n",
       "      <th>XLarge Bags</th>\n",
       "      <th>type</th>\n",
       "      <th>year</th>\n",
       "      <th>region</th>\n",
       "    </tr>\n",
       "  </thead>\n",
       "  <tbody>\n",
       "    <tr>\n",
       "      <th>9476</th>\n",
       "      <td>38</td>\n",
       "      <td>2015-04-05</td>\n",
       "      <td>1.52</td>\n",
       "      <td>120814.24</td>\n",
       "      <td>57082.30</td>\n",
       "      <td>51295.72</td>\n",
       "      <td>0.00</td>\n",
       "      <td>12436.22</td>\n",
       "      <td>12436.22</td>\n",
       "      <td>0.00</td>\n",
       "      <td>0.00</td>\n",
       "      <td>organic</td>\n",
       "      <td>2015</td>\n",
       "      <td>California</td>\n",
       "    </tr>\n",
       "    <tr>\n",
       "      <th>14117</th>\n",
       "      <td>0</td>\n",
       "      <td>2016-12-25</td>\n",
       "      <td>2.56</td>\n",
       "      <td>16169.17</td>\n",
       "      <td>5599.25</td>\n",
       "      <td>8335.16</td>\n",
       "      <td>0.00</td>\n",
       "      <td>2234.76</td>\n",
       "      <td>2234.76</td>\n",
       "      <td>0.00</td>\n",
       "      <td>0.00</td>\n",
       "      <td>organic</td>\n",
       "      <td>2016</td>\n",
       "      <td>SanFrancisco</td>\n",
       "    </tr>\n",
       "    <tr>\n",
       "      <th>13032</th>\n",
       "      <td>7</td>\n",
       "      <td>2016-11-06</td>\n",
       "      <td>1.94</td>\n",
       "      <td>6815.62</td>\n",
       "      <td>1815.17</td>\n",
       "      <td>3164.88</td>\n",
       "      <td>0.00</td>\n",
       "      <td>1835.57</td>\n",
       "      <td>1827.56</td>\n",
       "      <td>8.01</td>\n",
       "      <td>0.00</td>\n",
       "      <td>organic</td>\n",
       "      <td>2016</td>\n",
       "      <td>LasVegas</td>\n",
       "    </tr>\n",
       "    <tr>\n",
       "      <th>7366</th>\n",
       "      <td>1</td>\n",
       "      <td>2017-12-24</td>\n",
       "      <td>0.75</td>\n",
       "      <td>1006477.79</td>\n",
       "      <td>488446.20</td>\n",
       "      <td>176311.28</td>\n",
       "      <td>14450.19</td>\n",
       "      <td>327270.12</td>\n",
       "      <td>230660.26</td>\n",
       "      <td>93116.53</td>\n",
       "      <td>3493.33</td>\n",
       "      <td>conventional</td>\n",
       "      <td>2017</td>\n",
       "      <td>PhoenixTucson</td>\n",
       "    </tr>\n",
       "    <tr>\n",
       "      <th>14297</th>\n",
       "      <td>24</td>\n",
       "      <td>2016-07-10</td>\n",
       "      <td>1.18</td>\n",
       "      <td>106469.22</td>\n",
       "      <td>40521.68</td>\n",
       "      <td>7584.26</td>\n",
       "      <td>0.00</td>\n",
       "      <td>58363.28</td>\n",
       "      <td>54171.61</td>\n",
       "      <td>4191.67</td>\n",
       "      <td>0.00</td>\n",
       "      <td>organic</td>\n",
       "      <td>2016</td>\n",
       "      <td>SouthCentral</td>\n",
       "    </tr>\n",
       "    <tr>\n",
       "      <th>12465</th>\n",
       "      <td>12</td>\n",
       "      <td>2016-10-02</td>\n",
       "      <td>1.77</td>\n",
       "      <td>8280.66</td>\n",
       "      <td>570.03</td>\n",
       "      <td>4396.02</td>\n",
       "      <td>0.00</td>\n",
       "      <td>3314.61</td>\n",
       "      <td>3048.20</td>\n",
       "      <td>266.41</td>\n",
       "      <td>0.00</td>\n",
       "      <td>organic</td>\n",
       "      <td>2016</td>\n",
       "      <td>Columbus</td>\n",
       "    </tr>\n",
       "    <tr>\n",
       "      <th>336</th>\n",
       "      <td>24</td>\n",
       "      <td>2015-07-12</td>\n",
       "      <td>1.13</td>\n",
       "      <td>5451636.92</td>\n",
       "      <td>2747299.98</td>\n",
       "      <td>1923893.11</td>\n",
       "      <td>157478.05</td>\n",
       "      <td>622965.78</td>\n",
       "      <td>601358.64</td>\n",
       "      <td>18032.41</td>\n",
       "      <td>3574.73</td>\n",
       "      <td>conventional</td>\n",
       "      <td>2015</td>\n",
       "      <td>California</td>\n",
       "    </tr>\n",
       "    <tr>\n",
       "      <th>668</th>\n",
       "      <td>44</td>\n",
       "      <td>2015-02-22</td>\n",
       "      <td>1.00</td>\n",
       "      <td>899302.80</td>\n",
       "      <td>153410.25</td>\n",
       "      <td>584093.63</td>\n",
       "      <td>5686.33</td>\n",
       "      <td>156112.59</td>\n",
       "      <td>62564.22</td>\n",
       "      <td>93534.16</td>\n",
       "      <td>14.21</td>\n",
       "      <td>conventional</td>\n",
       "      <td>2015</td>\n",
       "      <td>Denver</td>\n",
       "    </tr>\n",
       "    <tr>\n",
       "      <th>16955</th>\n",
       "      <td>41</td>\n",
       "      <td>2017-03-19</td>\n",
       "      <td>1.59</td>\n",
       "      <td>22169.84</td>\n",
       "      <td>927.81</td>\n",
       "      <td>13605.83</td>\n",
       "      <td>4.94</td>\n",
       "      <td>7631.26</td>\n",
       "      <td>1083.05</td>\n",
       "      <td>6548.21</td>\n",
       "      <td>0.00</td>\n",
       "      <td>organic</td>\n",
       "      <td>2017</td>\n",
       "      <td>SanDiego</td>\n",
       "    </tr>\n",
       "    <tr>\n",
       "      <th>3518</th>\n",
       "      <td>34</td>\n",
       "      <td>2016-05-01</td>\n",
       "      <td>1.00</td>\n",
       "      <td>319391.58</td>\n",
       "      <td>109542.32</td>\n",
       "      <td>48135.67</td>\n",
       "      <td>46048.82</td>\n",
       "      <td>115664.77</td>\n",
       "      <td>97920.55</td>\n",
       "      <td>6527.68</td>\n",
       "      <td>11216.54</td>\n",
       "      <td>conventional</td>\n",
       "      <td>2016</td>\n",
       "      <td>Detroit</td>\n",
       "    </tr>\n",
       "  </tbody>\n",
       "</table>\n",
       "</div>"
      ],
      "text/plain": [
       "       Unnamed: 0        Date  AveragePrice  Total Volume        4046  \\\n",
       "9476           38  2015-04-05          1.52     120814.24    57082.30   \n",
       "14117           0  2016-12-25          2.56      16169.17     5599.25   \n",
       "13032           7  2016-11-06          1.94       6815.62     1815.17   \n",
       "7366            1  2017-12-24          0.75    1006477.79   488446.20   \n",
       "14297          24  2016-07-10          1.18     106469.22    40521.68   \n",
       "12465          12  2016-10-02          1.77       8280.66      570.03   \n",
       "336            24  2015-07-12          1.13    5451636.92  2747299.98   \n",
       "668            44  2015-02-22          1.00     899302.80   153410.25   \n",
       "16955          41  2017-03-19          1.59      22169.84      927.81   \n",
       "3518           34  2016-05-01          1.00     319391.58   109542.32   \n",
       "\n",
       "             4225       4770  Total Bags  Small Bags  Large Bags  XLarge Bags  \\\n",
       "9476     51295.72       0.00    12436.22    12436.22        0.00         0.00   \n",
       "14117     8335.16       0.00     2234.76     2234.76        0.00         0.00   \n",
       "13032     3164.88       0.00     1835.57     1827.56        8.01         0.00   \n",
       "7366    176311.28   14450.19   327270.12   230660.26    93116.53      3493.33   \n",
       "14297     7584.26       0.00    58363.28    54171.61     4191.67         0.00   \n",
       "12465     4396.02       0.00     3314.61     3048.20      266.41         0.00   \n",
       "336    1923893.11  157478.05   622965.78   601358.64    18032.41      3574.73   \n",
       "668     584093.63    5686.33   156112.59    62564.22    93534.16        14.21   \n",
       "16955    13605.83       4.94     7631.26     1083.05     6548.21         0.00   \n",
       "3518     48135.67   46048.82   115664.77    97920.55     6527.68     11216.54   \n",
       "\n",
       "               type  year         region  \n",
       "9476        organic  2015     California  \n",
       "14117       organic  2016   SanFrancisco  \n",
       "13032       organic  2016       LasVegas  \n",
       "7366   conventional  2017  PhoenixTucson  \n",
       "14297       organic  2016   SouthCentral  \n",
       "12465       organic  2016       Columbus  \n",
       "336    conventional  2015     California  \n",
       "668    conventional  2015         Denver  \n",
       "16955       organic  2017       SanDiego  \n",
       "3518   conventional  2016        Detroit  "
      ]
     },
     "execution_count": 5,
     "metadata": {},
     "output_type": "execute_result"
    }
   ],
   "source": [
    "ds_sample = data.sample(10)\n",
    "ds_sample"
   ]
  },
  {
   "cell_type": "code",
   "execution_count": 6,
   "metadata": {
    "execution": {
     "iopub.execute_input": "2022-02-12T18:15:19.908686Z",
     "iopub.status.busy": "2022-02-12T18:15:19.908444Z",
     "iopub.status.idle": "2022-02-12T18:15:19.958598Z",
     "shell.execute_reply": "2022-02-12T18:15:19.957869Z",
     "shell.execute_reply.started": "2022-02-12T18:15:19.908659Z"
    }
   },
   "outputs": [
    {
     "data": {
      "text/html": [
       "<div>\n",
       "<style scoped>\n",
       "    .dataframe tbody tr th:only-of-type {\n",
       "        vertical-align: middle;\n",
       "    }\n",
       "\n",
       "    .dataframe tbody tr th {\n",
       "        vertical-align: top;\n",
       "    }\n",
       "\n",
       "    .dataframe thead th {\n",
       "        text-align: right;\n",
       "    }\n",
       "</style>\n",
       "<table border=\"1\" class=\"dataframe\">\n",
       "  <thead>\n",
       "    <tr style=\"text-align: right;\">\n",
       "      <th></th>\n",
       "      <th>count</th>\n",
       "      <th>mean</th>\n",
       "      <th>std</th>\n",
       "      <th>min</th>\n",
       "      <th>25%</th>\n",
       "      <th>50%</th>\n",
       "      <th>75%</th>\n",
       "      <th>max</th>\n",
       "    </tr>\n",
       "  </thead>\n",
       "  <tbody>\n",
       "    <tr>\n",
       "      <th>Unnamed: 0</th>\n",
       "      <td>18249.0</td>\n",
       "      <td>24.232232</td>\n",
       "      <td>1.548104e+01</td>\n",
       "      <td>0.00</td>\n",
       "      <td>10.00</td>\n",
       "      <td>24.00</td>\n",
       "      <td>38.00</td>\n",
       "      <td>52.00</td>\n",
       "    </tr>\n",
       "    <tr>\n",
       "      <th>AveragePrice</th>\n",
       "      <td>18249.0</td>\n",
       "      <td>1.405978</td>\n",
       "      <td>4.026766e-01</td>\n",
       "      <td>0.44</td>\n",
       "      <td>1.10</td>\n",
       "      <td>1.37</td>\n",
       "      <td>1.66</td>\n",
       "      <td>3.25</td>\n",
       "    </tr>\n",
       "    <tr>\n",
       "      <th>Total Volume</th>\n",
       "      <td>18249.0</td>\n",
       "      <td>850644.013009</td>\n",
       "      <td>3.453545e+06</td>\n",
       "      <td>84.56</td>\n",
       "      <td>10838.58</td>\n",
       "      <td>107376.76</td>\n",
       "      <td>432962.29</td>\n",
       "      <td>62505646.52</td>\n",
       "    </tr>\n",
       "    <tr>\n",
       "      <th>4046</th>\n",
       "      <td>18249.0</td>\n",
       "      <td>293008.424531</td>\n",
       "      <td>1.264989e+06</td>\n",
       "      <td>0.00</td>\n",
       "      <td>854.07</td>\n",
       "      <td>8645.30</td>\n",
       "      <td>111020.20</td>\n",
       "      <td>22743616.17</td>\n",
       "    </tr>\n",
       "    <tr>\n",
       "      <th>4225</th>\n",
       "      <td>18249.0</td>\n",
       "      <td>295154.568356</td>\n",
       "      <td>1.204120e+06</td>\n",
       "      <td>0.00</td>\n",
       "      <td>3008.78</td>\n",
       "      <td>29061.02</td>\n",
       "      <td>150206.86</td>\n",
       "      <td>20470572.61</td>\n",
       "    </tr>\n",
       "    <tr>\n",
       "      <th>4770</th>\n",
       "      <td>18249.0</td>\n",
       "      <td>22839.735993</td>\n",
       "      <td>1.074641e+05</td>\n",
       "      <td>0.00</td>\n",
       "      <td>0.00</td>\n",
       "      <td>184.99</td>\n",
       "      <td>6243.42</td>\n",
       "      <td>2546439.11</td>\n",
       "    </tr>\n",
       "    <tr>\n",
       "      <th>Total Bags</th>\n",
       "      <td>18249.0</td>\n",
       "      <td>239639.202060</td>\n",
       "      <td>9.862424e+05</td>\n",
       "      <td>0.00</td>\n",
       "      <td>5088.64</td>\n",
       "      <td>39743.83</td>\n",
       "      <td>110783.37</td>\n",
       "      <td>19373134.37</td>\n",
       "    </tr>\n",
       "    <tr>\n",
       "      <th>Small Bags</th>\n",
       "      <td>18249.0</td>\n",
       "      <td>182194.686696</td>\n",
       "      <td>7.461785e+05</td>\n",
       "      <td>0.00</td>\n",
       "      <td>2849.42</td>\n",
       "      <td>26362.82</td>\n",
       "      <td>83337.67</td>\n",
       "      <td>13384586.80</td>\n",
       "    </tr>\n",
       "    <tr>\n",
       "      <th>Large Bags</th>\n",
       "      <td>18249.0</td>\n",
       "      <td>54338.088145</td>\n",
       "      <td>2.439660e+05</td>\n",
       "      <td>0.00</td>\n",
       "      <td>127.47</td>\n",
       "      <td>2647.71</td>\n",
       "      <td>22029.25</td>\n",
       "      <td>5719096.61</td>\n",
       "    </tr>\n",
       "    <tr>\n",
       "      <th>XLarge Bags</th>\n",
       "      <td>18249.0</td>\n",
       "      <td>3106.426507</td>\n",
       "      <td>1.769289e+04</td>\n",
       "      <td>0.00</td>\n",
       "      <td>0.00</td>\n",
       "      <td>0.00</td>\n",
       "      <td>132.50</td>\n",
       "      <td>551693.65</td>\n",
       "    </tr>\n",
       "    <tr>\n",
       "      <th>year</th>\n",
       "      <td>18249.0</td>\n",
       "      <td>2016.147899</td>\n",
       "      <td>9.399385e-01</td>\n",
       "      <td>2015.00</td>\n",
       "      <td>2015.00</td>\n",
       "      <td>2016.00</td>\n",
       "      <td>2017.00</td>\n",
       "      <td>2018.00</td>\n",
       "    </tr>\n",
       "  </tbody>\n",
       "</table>\n",
       "</div>"
      ],
      "text/plain": [
       "                count           mean           std      min       25%  \\\n",
       "Unnamed: 0    18249.0      24.232232  1.548104e+01     0.00     10.00   \n",
       "AveragePrice  18249.0       1.405978  4.026766e-01     0.44      1.10   \n",
       "Total Volume  18249.0  850644.013009  3.453545e+06    84.56  10838.58   \n",
       "4046          18249.0  293008.424531  1.264989e+06     0.00    854.07   \n",
       "4225          18249.0  295154.568356  1.204120e+06     0.00   3008.78   \n",
       "4770          18249.0   22839.735993  1.074641e+05     0.00      0.00   \n",
       "Total Bags    18249.0  239639.202060  9.862424e+05     0.00   5088.64   \n",
       "Small Bags    18249.0  182194.686696  7.461785e+05     0.00   2849.42   \n",
       "Large Bags    18249.0   54338.088145  2.439660e+05     0.00    127.47   \n",
       "XLarge Bags   18249.0    3106.426507  1.769289e+04     0.00      0.00   \n",
       "year          18249.0    2016.147899  9.399385e-01  2015.00   2015.00   \n",
       "\n",
       "                    50%        75%          max  \n",
       "Unnamed: 0        24.00      38.00        52.00  \n",
       "AveragePrice       1.37       1.66         3.25  \n",
       "Total Volume  107376.76  432962.29  62505646.52  \n",
       "4046            8645.30  111020.20  22743616.17  \n",
       "4225           29061.02  150206.86  20470572.61  \n",
       "4770             184.99    6243.42   2546439.11  \n",
       "Total Bags     39743.83  110783.37  19373134.37  \n",
       "Small Bags     26362.82   83337.67  13384586.80  \n",
       "Large Bags      2647.71   22029.25   5719096.61  \n",
       "XLarge Bags        0.00     132.50    551693.65  \n",
       "year            2016.00    2017.00      2018.00  "
      ]
     },
     "execution_count": 6,
     "metadata": {},
     "output_type": "execute_result"
    }
   ],
   "source": [
    "data.describe().T"
   ]
  },
  {
   "cell_type": "code",
   "execution_count": 7,
   "metadata": {
    "execution": {
     "iopub.execute_input": "2022-02-12T18:15:19.959746Z",
     "iopub.status.busy": "2022-02-12T18:15:19.959475Z",
     "iopub.status.idle": "2022-02-12T18:15:19.973283Z",
     "shell.execute_reply": "2022-02-12T18:15:19.971828Z",
     "shell.execute_reply.started": "2022-02-12T18:15:19.959718Z"
    }
   },
   "outputs": [
    {
     "data": {
      "text/plain": [
       "count    18249.000000\n",
       "mean         1.405978\n",
       "std          0.402677\n",
       "min          0.440000\n",
       "25%          1.100000\n",
       "50%          1.370000\n",
       "75%          1.660000\n",
       "max          3.250000\n",
       "Name: AveragePrice, dtype: float64"
      ]
     },
     "execution_count": 7,
     "metadata": {},
     "output_type": "execute_result"
    }
   ],
   "source": [
    "price = data[\"AveragePrice\"]\n",
    "price.describe()"
   ]
  },
  {
   "cell_type": "code",
   "execution_count": 8,
   "metadata": {
    "execution": {
     "iopub.execute_input": "2022-02-12T18:15:19.975299Z",
     "iopub.status.busy": "2022-02-12T18:15:19.975049Z",
     "iopub.status.idle": "2022-02-12T18:15:20.412429Z",
     "shell.execute_reply": "2022-02-12T18:15:20.411708Z",
     "shell.execute_reply.started": "2022-02-12T18:15:19.975273Z"
    }
   },
   "outputs": [
    {
     "name": "stderr",
     "output_type": "stream",
     "text": [
      "C:\\Users\\goksel\\Anaconda3\\lib\\site-packages\\seaborn\\distributions.py:2619: FutureWarning: `distplot` is a deprecated function and will be removed in a future version. Please adapt your code to use either `displot` (a figure-level function with similar flexibility) or `histplot` (an axes-level function for histograms).\n",
      "  warnings.warn(msg, FutureWarning)\n"
     ]
    },
    {
     "data": {
      "image/png": "[encoded data removed]",
      "text/plain": [
       "<Figure size 720x432 with 1 Axes>"
      ]
     },
     "metadata": {
      "needs_background": "light"
     },
     "output_type": "display_data"
    }
   ],
   "source": [
    "fig = plt.figure(figsize=(10,6));\n",
    "sns.distplot(data[\"AveragePrice\"],color=\"green\");\n",
    "sns.set_style(\"white\");\n",
    "sns.despine();"
   ]
  },
  {
   "cell_type": "code",
   "execution_count": 9,
   "metadata": {
    "execution": {
     "iopub.execute_input": "2022-02-12T18:15:20.414155Z",
     "iopub.status.busy": "2022-02-12T18:15:20.413768Z",
     "iopub.status.idle": "2022-02-12T18:15:20.730994Z",
     "shell.execute_reply": "2022-02-12T18:15:20.730309Z",
     "shell.execute_reply.started": "2022-02-12T18:15:20.414126Z"
    }
   },
   "outputs": [
    {
     "data": {
      "image/png": "[encoded data removed]",
      "text/plain": [
       "<Figure size 720x504 with 2 Axes>"
      ]
     },
     "metadata": {},
     "output_type": "display_data"
    }
   ],
   "source": [
    "corr_AveragePrice = data.corrwith(price, axis=0)\n",
    "corr_AveragePrice = pd.DataFrame(corr_AveragePrice)\n",
    "corr_AveragePrice.rename (columns = {0: 'AveragePrice'}, inplace = True)\n",
    "\n",
    "plt.subplots(figsize=(10,7))\n",
    "sns.set(font_scale=1.1)\n",
    "sns.heatmap(corr_AveragePrice, vmax=1, cmap=\"GnBu\",fmt='.4f',annot=True);"
   ]
  },
  {
   "cell_type": "code",
   "execution_count": 10,
   "metadata": {
    "execution": {
     "iopub.execute_input": "2022-02-12T18:15:20.732330Z",
     "iopub.status.busy": "2022-02-12T18:15:20.731980Z",
     "iopub.status.idle": "2022-02-12T18:15:20.856207Z",
     "shell.execute_reply": "2022-02-12T18:15:20.855338Z",
     "shell.execute_reply.started": "2022-02-12T18:15:20.732302Z"
    }
   },
   "outputs": [
    {
     "data": {
      "image/png": "[encoded data removed]",
      "text/plain": [
       "<Figure size 720x432 with 1 Axes>"
      ]
     },
     "metadata": {},
     "output_type": "display_data"
    }
   ],
   "source": [
    "fig = plt.figure(figsize=(10,6))\n",
    "sns.countplot(x=\"type\", data=data, palette='Set2');"
   ]
  },
  {
   "cell_type": "markdown",
   "metadata": {},
   "source": [
    "<p style=\"background-color:#FFF;font-family:newtimeroman;color:#347C17;font-size:180%;text-align:center;border-style: solid;border-radius:8px 8px;border-color:#347C17;border-width: 5px;\"> PREPROCESSING 🔨  </p>"
   ]
  },
  {
   "cell_type": "code",
   "execution_count": 11,
   "metadata": {
    "execution": {
     "iopub.execute_input": "2022-02-12T18:15:20.857910Z",
     "iopub.status.busy": "2022-02-12T18:15:20.857352Z",
     "iopub.status.idle": "2022-02-12T18:15:20.864459Z",
     "shell.execute_reply": "2022-02-12T18:15:20.863728Z",
     "shell.execute_reply.started": "2022-02-12T18:15:20.857867Z"
    }
   },
   "outputs": [],
   "source": [
    "data = data.drop(columns = [\"Unnamed: 0\"])"
   ]
  },
  {
   "cell_type": "code",
   "execution_count": 12,
   "metadata": {
    "execution": {
     "iopub.execute_input": "2022-02-12T18:15:20.866143Z",
     "iopub.status.busy": "2022-02-12T18:15:20.865588Z",
     "iopub.status.idle": "2022-02-12T18:15:20.899733Z",
     "shell.execute_reply": "2022-02-12T18:15:20.898742Z",
     "shell.execute_reply.started": "2022-02-12T18:15:20.866100Z"
    }
   },
   "outputs": [
    {
     "name": "stderr",
     "output_type": "stream",
     "text": [
      "C:\\Users\\goksel\\AppData\\Local\\Temp/ipykernel_9452/1157066091.py:4: SettingWithCopyWarning: \n",
      "A value is trying to be set on a copy of a slice from a DataFrame.\n",
      "Try using .loc[row_indexer,col_indexer] = value instead\n",
      "\n",
      "See the caveats in the documentation: https://pandas.pydata.org/pandas-docs/stable/user_guide/indexing.html#returning-a-view-versus-a-copy\n",
      "  bags[\"total\"] = bags[\"Small Bags\"] + bags[\"Large Bags\"] + bags[\"XLarge Bags\"]\n",
      "C:\\Users\\goksel\\AppData\\Local\\Temp/ipykernel_9452/1157066091.py:5: SettingWithCopyWarning: \n",
      "A value is trying to be set on a copy of a slice from a DataFrame.\n",
      "Try using .loc[row_indexer,col_indexer] = value instead\n",
      "\n",
      "See the caveats in the documentation: https://pandas.pydata.org/pandas-docs/stable/user_guide/indexing.html#returning-a-view-versus-a-copy\n",
      "  bags[\"diff\"] = bags[\"Total Bags\"] - bags[\"total\"]\n"
     ]
    },
    {
     "data": {
      "text/html": [
       "<div>\n",
       "<style scoped>\n",
       "    .dataframe tbody tr th:only-of-type {\n",
       "        vertical-align: middle;\n",
       "    }\n",
       "\n",
       "    .dataframe tbody tr th {\n",
       "        vertical-align: top;\n",
       "    }\n",
       "\n",
       "    .dataframe thead th {\n",
       "        text-align: right;\n",
       "    }\n",
       "</style>\n",
       "<table border=\"1\" class=\"dataframe\">\n",
       "  <thead>\n",
       "    <tr style=\"text-align: right;\">\n",
       "      <th></th>\n",
       "      <th>Total Bags</th>\n",
       "      <th>Small Bags</th>\n",
       "      <th>Large Bags</th>\n",
       "      <th>XLarge Bags</th>\n",
       "      <th>total</th>\n",
       "      <th>diff</th>\n",
       "    </tr>\n",
       "  </thead>\n",
       "  <tbody>\n",
       "    <tr>\n",
       "      <th>0</th>\n",
       "      <td>8696.87</td>\n",
       "      <td>8603.62</td>\n",
       "      <td>93.25</td>\n",
       "      <td>0.0</td>\n",
       "      <td>8696.87</td>\n",
       "      <td>0.000000e+00</td>\n",
       "    </tr>\n",
       "    <tr>\n",
       "      <th>1</th>\n",
       "      <td>9505.56</td>\n",
       "      <td>9408.07</td>\n",
       "      <td>97.49</td>\n",
       "      <td>0.0</td>\n",
       "      <td>9505.56</td>\n",
       "      <td>0.000000e+00</td>\n",
       "    </tr>\n",
       "    <tr>\n",
       "      <th>2</th>\n",
       "      <td>8145.35</td>\n",
       "      <td>8042.21</td>\n",
       "      <td>103.14</td>\n",
       "      <td>0.0</td>\n",
       "      <td>8145.35</td>\n",
       "      <td>0.000000e+00</td>\n",
       "    </tr>\n",
       "    <tr>\n",
       "      <th>3</th>\n",
       "      <td>5811.16</td>\n",
       "      <td>5677.40</td>\n",
       "      <td>133.76</td>\n",
       "      <td>0.0</td>\n",
       "      <td>5811.16</td>\n",
       "      <td>0.000000e+00</td>\n",
       "    </tr>\n",
       "    <tr>\n",
       "      <th>4</th>\n",
       "      <td>6183.95</td>\n",
       "      <td>5986.26</td>\n",
       "      <td>197.69</td>\n",
       "      <td>0.0</td>\n",
       "      <td>6183.95</td>\n",
       "      <td>0.000000e+00</td>\n",
       "    </tr>\n",
       "    <tr>\n",
       "      <th>...</th>\n",
       "      <td>...</td>\n",
       "      <td>...</td>\n",
       "      <td>...</td>\n",
       "      <td>...</td>\n",
       "      <td>...</td>\n",
       "      <td>...</td>\n",
       "    </tr>\n",
       "    <tr>\n",
       "      <th>18244</th>\n",
       "      <td>13498.67</td>\n",
       "      <td>13066.82</td>\n",
       "      <td>431.85</td>\n",
       "      <td>0.0</td>\n",
       "      <td>13498.67</td>\n",
       "      <td>0.000000e+00</td>\n",
       "    </tr>\n",
       "    <tr>\n",
       "      <th>18245</th>\n",
       "      <td>9264.84</td>\n",
       "      <td>8940.04</td>\n",
       "      <td>324.80</td>\n",
       "      <td>0.0</td>\n",
       "      <td>9264.84</td>\n",
       "      <td>0.000000e+00</td>\n",
       "    </tr>\n",
       "    <tr>\n",
       "      <th>18246</th>\n",
       "      <td>9394.11</td>\n",
       "      <td>9351.80</td>\n",
       "      <td>42.31</td>\n",
       "      <td>0.0</td>\n",
       "      <td>9394.11</td>\n",
       "      <td>1.818989e-12</td>\n",
       "    </tr>\n",
       "    <tr>\n",
       "      <th>18247</th>\n",
       "      <td>10969.54</td>\n",
       "      <td>10919.54</td>\n",
       "      <td>50.00</td>\n",
       "      <td>0.0</td>\n",
       "      <td>10969.54</td>\n",
       "      <td>0.000000e+00</td>\n",
       "    </tr>\n",
       "    <tr>\n",
       "      <th>18248</th>\n",
       "      <td>12014.15</td>\n",
       "      <td>11988.14</td>\n",
       "      <td>26.01</td>\n",
       "      <td>0.0</td>\n",
       "      <td>12014.15</td>\n",
       "      <td>0.000000e+00</td>\n",
       "    </tr>\n",
       "  </tbody>\n",
       "</table>\n",
       "<p>18249 rows × 6 columns</p>\n",
       "</div>"
      ],
      "text/plain": [
       "       Total Bags  Small Bags  Large Bags  XLarge Bags     total          diff\n",
       "0         8696.87     8603.62       93.25          0.0   8696.87  0.000000e+00\n",
       "1         9505.56     9408.07       97.49          0.0   9505.56  0.000000e+00\n",
       "2         8145.35     8042.21      103.14          0.0   8145.35  0.000000e+00\n",
       "3         5811.16     5677.40      133.76          0.0   5811.16  0.000000e+00\n",
       "4         6183.95     5986.26      197.69          0.0   6183.95  0.000000e+00\n",
       "...           ...         ...         ...          ...       ...           ...\n",
       "18244    13498.67    13066.82      431.85          0.0  13498.67  0.000000e+00\n",
       "18245     9264.84     8940.04      324.80          0.0   9264.84  0.000000e+00\n",
       "18246     9394.11     9351.80       42.31          0.0   9394.11  1.818989e-12\n",
       "18247    10969.54    10919.54       50.00          0.0  10969.54  0.000000e+00\n",
       "18248    12014.15    11988.14       26.01          0.0  12014.15  0.000000e+00\n",
       "\n",
       "[18249 rows x 6 columns]"
      ]
     },
     "execution_count": 12,
     "metadata": {},
     "output_type": "execute_result"
    }
   ],
   "source": [
    "#%% total bags =? small + large + xlarge\n",
    "\n",
    "bags = data[[\"Total Bags\", \"Small Bags\", \"Large Bags\", \"XLarge Bags\"]]\n",
    "bags[\"total\"] = bags[\"Small Bags\"] + bags[\"Large Bags\"] + bags[\"XLarge Bags\"]\n",
    "bags[\"diff\"] = bags[\"Total Bags\"] - bags[\"total\"]\n",
    "bags"
   ]
  },
  {
   "cell_type": "code",
   "execution_count": 13,
   "metadata": {
    "execution": {
     "iopub.execute_input": "2022-02-12T18:15:20.901670Z",
     "iopub.status.busy": "2022-02-12T18:15:20.901233Z",
     "iopub.status.idle": "2022-02-12T18:15:20.909710Z",
     "shell.execute_reply": "2022-02-12T18:15:20.908753Z",
     "shell.execute_reply.started": "2022-02-12T18:15:20.901598Z"
    }
   },
   "outputs": [],
   "source": [
    "data = data.drop(columns = [\"Total Bags\"])"
   ]
  },
  {
   "cell_type": "code",
   "execution_count": 14,
   "metadata": {
    "execution": {
     "iopub.execute_input": "2022-02-12T18:15:20.911991Z",
     "iopub.status.busy": "2022-02-12T18:15:20.911236Z",
     "iopub.status.idle": "2022-02-12T18:15:20.925573Z",
     "shell.execute_reply": "2022-02-12T18:15:20.924639Z",
     "shell.execute_reply.started": "2022-02-12T18:15:20.911948Z"
    }
   },
   "outputs": [
    {
     "data": {
      "text/plain": [
       "region\n",
       "Albany                 338\n",
       "Atlanta                338\n",
       "BaltimoreWashington    338\n",
       "Boise                  338\n",
       "Boston                 338\n",
       "BuffaloRochester       338\n",
       "California             338\n",
       "Charlotte              338\n",
       "Chicago                338\n",
       "CincinnatiDayton       338\n",
       "Columbus               338\n",
       "DallasFtWorth          338\n",
       "Denver                 338\n",
       "Detroit                338\n",
       "GrandRapids            338\n",
       "GreatLakes             338\n",
       "HarrisburgScranton     338\n",
       "HartfordSpringfield    338\n",
       "Houston                338\n",
       "Indianapolis           338\n",
       "Jacksonville           338\n",
       "LasVegas               338\n",
       "LosAngeles             338\n",
       "Louisville             338\n",
       "MiamiFtLauderdale      338\n",
       "Midsouth               338\n",
       "Nashville              338\n",
       "NewOrleansMobile       338\n",
       "NewYork                338\n",
       "Northeast              338\n",
       "NorthernNewEngland     338\n",
       "Orlando                338\n",
       "Philadelphia           338\n",
       "PhoenixTucson          338\n",
       "Pittsburgh             338\n",
       "Plains                 338\n",
       "Portland               338\n",
       "RaleighGreensboro      338\n",
       "RichmondNorfolk        338\n",
       "Roanoke                338\n",
       "Sacramento             338\n",
       "SanDiego               338\n",
       "SanFrancisco           338\n",
       "Seattle                338\n",
       "SouthCarolina          338\n",
       "SouthCentral           338\n",
       "Southeast              338\n",
       "Spokane                338\n",
       "StLouis                338\n",
       "Syracuse               338\n",
       "Tampa                  338\n",
       "TotalUS                338\n",
       "West                   338\n",
       "WestTexNewMexico       335\n",
       "Name: type, dtype: int64"
      ]
     },
     "execution_count": 14,
     "metadata": {},
     "output_type": "execute_result"
    }
   ],
   "source": [
    "data.groupby('region')[\"type\"].count()"
   ]
  },
  {
   "cell_type": "code",
   "execution_count": 15,
   "metadata": {
    "execution": {
     "iopub.execute_input": "2022-02-12T18:15:20.927728Z",
     "iopub.status.busy": "2022-02-12T18:15:20.927331Z",
     "iopub.status.idle": "2022-02-12T18:15:20.934335Z",
     "shell.execute_reply": "2022-02-12T18:15:20.933657Z",
     "shell.execute_reply.started": "2022-02-12T18:15:20.927695Z"
    }
   },
   "outputs": [
    {
     "data": {
      "text/plain": [
       "array(['Albany', 'Atlanta', 'BaltimoreWashington', 'Boise', 'Boston',\n",
       "       'BuffaloRochester', 'California', 'Charlotte', 'Chicago',\n",
       "       'CincinnatiDayton', 'Columbus', 'DallasFtWorth', 'Denver',\n",
       "       'Detroit', 'GrandRapids', 'GreatLakes', 'HarrisburgScranton',\n",
       "       'HartfordSpringfield', 'Houston', 'Indianapolis', 'Jacksonville',\n",
       "       'LasVegas', 'LosAngeles', 'Louisville', 'MiamiFtLauderdale',\n",
       "       'Midsouth', 'Nashville', 'NewOrleansMobile', 'NewYork',\n",
       "       'Northeast', 'NorthernNewEngland', 'Orlando', 'Philadelphia',\n",
       "       'PhoenixTucson', 'Pittsburgh', 'Plains', 'Portland',\n",
       "       'RaleighGreensboro', 'RichmondNorfolk', 'Roanoke', 'Sacramento',\n",
       "       'SanDiego', 'SanFrancisco', 'Seattle', 'SouthCarolina',\n",
       "       'SouthCentral', 'Southeast', 'Spokane', 'StLouis', 'Syracuse',\n",
       "       'Tampa', 'TotalUS', 'West', 'WestTexNewMexico'], dtype=object)"
      ]
     },
     "execution_count": 15,
     "metadata": {},
     "output_type": "execute_result"
    }
   ],
   "source": [
    "regions = data[\"region\"].unique()\n",
    "regions"
   ]
  },
  {
   "cell_type": "code",
   "execution_count": 16,
   "metadata": {
    "execution": {
     "iopub.execute_input": "2022-02-12T18:15:20.935729Z",
     "iopub.status.busy": "2022-02-12T18:15:20.935334Z",
     "iopub.status.idle": "2022-02-12T18:15:20.973152Z",
     "shell.execute_reply": "2022-02-12T18:15:20.972204Z",
     "shell.execute_reply.started": "2022-02-12T18:15:20.935696Z"
    }
   },
   "outputs": [
    {
     "data": {
      "text/html": [
       "<div>\n",
       "<style scoped>\n",
       "    .dataframe tbody tr th:only-of-type {\n",
       "        vertical-align: middle;\n",
       "    }\n",
       "\n",
       "    .dataframe tbody tr th {\n",
       "        vertical-align: top;\n",
       "    }\n",
       "\n",
       "    .dataframe thead th {\n",
       "        text-align: right;\n",
       "    }\n",
       "</style>\n",
       "<table border=\"1\" class=\"dataframe\">\n",
       "  <thead>\n",
       "    <tr style=\"text-align: right;\">\n",
       "      <th></th>\n",
       "      <th>AveragePrice</th>\n",
       "      <th>Total Volume</th>\n",
       "      <th>4046</th>\n",
       "      <th>4225</th>\n",
       "      <th>4770</th>\n",
       "      <th>Small Bags</th>\n",
       "      <th>Large Bags</th>\n",
       "      <th>XLarge Bags</th>\n",
       "      <th>type</th>\n",
       "      <th>year</th>\n",
       "      <th>region</th>\n",
       "      <th>Month</th>\n",
       "      <th>Day</th>\n",
       "    </tr>\n",
       "  </thead>\n",
       "  <tbody>\n",
       "    <tr>\n",
       "      <th>0</th>\n",
       "      <td>1.33</td>\n",
       "      <td>64236.62</td>\n",
       "      <td>1036.74</td>\n",
       "      <td>54454.85</td>\n",
       "      <td>48.16</td>\n",
       "      <td>8603.62</td>\n",
       "      <td>93.25</td>\n",
       "      <td>0.0</td>\n",
       "      <td>conventional</td>\n",
       "      <td>2015</td>\n",
       "      <td>Albany</td>\n",
       "      <td>12</td>\n",
       "      <td>27</td>\n",
       "    </tr>\n",
       "    <tr>\n",
       "      <th>1</th>\n",
       "      <td>1.35</td>\n",
       "      <td>54876.98</td>\n",
       "      <td>674.28</td>\n",
       "      <td>44638.81</td>\n",
       "      <td>58.33</td>\n",
       "      <td>9408.07</td>\n",
       "      <td>97.49</td>\n",
       "      <td>0.0</td>\n",
       "      <td>conventional</td>\n",
       "      <td>2015</td>\n",
       "      <td>Albany</td>\n",
       "      <td>12</td>\n",
       "      <td>20</td>\n",
       "    </tr>\n",
       "    <tr>\n",
       "      <th>2</th>\n",
       "      <td>0.93</td>\n",
       "      <td>118220.22</td>\n",
       "      <td>794.70</td>\n",
       "      <td>109149.67</td>\n",
       "      <td>130.50</td>\n",
       "      <td>8042.21</td>\n",
       "      <td>103.14</td>\n",
       "      <td>0.0</td>\n",
       "      <td>conventional</td>\n",
       "      <td>2015</td>\n",
       "      <td>Albany</td>\n",
       "      <td>12</td>\n",
       "      <td>13</td>\n",
       "    </tr>\n",
       "    <tr>\n",
       "      <th>3</th>\n",
       "      <td>1.08</td>\n",
       "      <td>78992.15</td>\n",
       "      <td>1132.00</td>\n",
       "      <td>71976.41</td>\n",
       "      <td>72.58</td>\n",
       "      <td>5677.40</td>\n",
       "      <td>133.76</td>\n",
       "      <td>0.0</td>\n",
       "      <td>conventional</td>\n",
       "      <td>2015</td>\n",
       "      <td>Albany</td>\n",
       "      <td>12</td>\n",
       "      <td>6</td>\n",
       "    </tr>\n",
       "    <tr>\n",
       "      <th>4</th>\n",
       "      <td>1.28</td>\n",
       "      <td>51039.60</td>\n",
       "      <td>941.48</td>\n",
       "      <td>43838.39</td>\n",
       "      <td>75.78</td>\n",
       "      <td>5986.26</td>\n",
       "      <td>197.69</td>\n",
       "      <td>0.0</td>\n",
       "      <td>conventional</td>\n",
       "      <td>2015</td>\n",
       "      <td>Albany</td>\n",
       "      <td>11</td>\n",
       "      <td>29</td>\n",
       "    </tr>\n",
       "  </tbody>\n",
       "</table>\n",
       "</div>"
      ],
      "text/plain": [
       "   AveragePrice  Total Volume     4046       4225    4770  Small Bags  \\\n",
       "0          1.33      64236.62  1036.74   54454.85   48.16     8603.62   \n",
       "1          1.35      54876.98   674.28   44638.81   58.33     9408.07   \n",
       "2          0.93     118220.22   794.70  109149.67  130.50     8042.21   \n",
       "3          1.08      78992.15  1132.00   71976.41   72.58     5677.40   \n",
       "4          1.28      51039.60   941.48   43838.39   75.78     5986.26   \n",
       "\n",
       "   Large Bags  XLarge Bags          type  year  region  Month  Day  \n",
       "0       93.25          0.0  conventional  2015  Albany     12   27  \n",
       "1       97.49          0.0  conventional  2015  Albany     12   20  \n",
       "2      103.14          0.0  conventional  2015  Albany     12   13  \n",
       "3      133.76          0.0  conventional  2015  Albany     12    6  \n",
       "4      197.69          0.0  conventional  2015  Albany     11   29  "
      ]
     },
     "execution_count": 16,
     "metadata": {},
     "output_type": "execute_result"
    }
   ],
   "source": [
    "data[\"Date\"] = pd.to_datetime(data[\"Date\"])\n",
    "data[\"Month\"] = data['Date'].dt.month\n",
    "data[\"Day\"] = data['Date'].dt.day\n",
    "data = data.drop(columns=[\"Date\"])\n",
    "data.head()"
   ]
  },
  {
   "cell_type": "code",
   "execution_count": 17,
   "metadata": {
    "execution": {
     "iopub.execute_input": "2022-02-12T18:15:20.974681Z",
     "iopub.status.busy": "2022-02-12T18:15:20.974374Z",
     "iopub.status.idle": "2022-02-12T18:15:21.002424Z",
     "shell.execute_reply": "2022-02-12T18:15:21.001361Z",
     "shell.execute_reply.started": "2022-02-12T18:15:20.974640Z"
    }
   },
   "outputs": [
    {
     "data": {
      "text/html": [
       "<div>\n",
       "<style scoped>\n",
       "    .dataframe tbody tr th:only-of-type {\n",
       "        vertical-align: middle;\n",
       "    }\n",
       "\n",
       "    .dataframe tbody tr th {\n",
       "        vertical-align: top;\n",
       "    }\n",
       "\n",
       "    .dataframe thead th {\n",
       "        text-align: right;\n",
       "    }\n",
       "</style>\n",
       "<table border=\"1\" class=\"dataframe\">\n",
       "  <thead>\n",
       "    <tr style=\"text-align: right;\">\n",
       "      <th></th>\n",
       "      <th>AveragePrice</th>\n",
       "      <th>Total Volume</th>\n",
       "      <th>4046</th>\n",
       "      <th>4225</th>\n",
       "      <th>4770</th>\n",
       "      <th>Small Bags</th>\n",
       "      <th>Large Bags</th>\n",
       "      <th>XLarge Bags</th>\n",
       "      <th>type</th>\n",
       "      <th>year</th>\n",
       "      <th>region</th>\n",
       "      <th>Month</th>\n",
       "      <th>Day</th>\n",
       "    </tr>\n",
       "  </thead>\n",
       "  <tbody>\n",
       "    <tr>\n",
       "      <th>0</th>\n",
       "      <td>1.33</td>\n",
       "      <td>64236.62</td>\n",
       "      <td>1036.74</td>\n",
       "      <td>54454.85</td>\n",
       "      <td>48.16</td>\n",
       "      <td>8603.62</td>\n",
       "      <td>93.25</td>\n",
       "      <td>0.0</td>\n",
       "      <td>0</td>\n",
       "      <td>2015</td>\n",
       "      <td>0</td>\n",
       "      <td>12</td>\n",
       "      <td>27</td>\n",
       "    </tr>\n",
       "    <tr>\n",
       "      <th>1</th>\n",
       "      <td>1.35</td>\n",
       "      <td>54876.98</td>\n",
       "      <td>674.28</td>\n",
       "      <td>44638.81</td>\n",
       "      <td>58.33</td>\n",
       "      <td>9408.07</td>\n",
       "      <td>97.49</td>\n",
       "      <td>0.0</td>\n",
       "      <td>0</td>\n",
       "      <td>2015</td>\n",
       "      <td>0</td>\n",
       "      <td>12</td>\n",
       "      <td>20</td>\n",
       "    </tr>\n",
       "    <tr>\n",
       "      <th>2</th>\n",
       "      <td>0.93</td>\n",
       "      <td>118220.22</td>\n",
       "      <td>794.70</td>\n",
       "      <td>109149.67</td>\n",
       "      <td>130.50</td>\n",
       "      <td>8042.21</td>\n",
       "      <td>103.14</td>\n",
       "      <td>0.0</td>\n",
       "      <td>0</td>\n",
       "      <td>2015</td>\n",
       "      <td>0</td>\n",
       "      <td>12</td>\n",
       "      <td>13</td>\n",
       "    </tr>\n",
       "    <tr>\n",
       "      <th>3</th>\n",
       "      <td>1.08</td>\n",
       "      <td>78992.15</td>\n",
       "      <td>1132.00</td>\n",
       "      <td>71976.41</td>\n",
       "      <td>72.58</td>\n",
       "      <td>5677.40</td>\n",
       "      <td>133.76</td>\n",
       "      <td>0.0</td>\n",
       "      <td>0</td>\n",
       "      <td>2015</td>\n",
       "      <td>0</td>\n",
       "      <td>12</td>\n",
       "      <td>6</td>\n",
       "    </tr>\n",
       "    <tr>\n",
       "      <th>4</th>\n",
       "      <td>1.28</td>\n",
       "      <td>51039.60</td>\n",
       "      <td>941.48</td>\n",
       "      <td>43838.39</td>\n",
       "      <td>75.78</td>\n",
       "      <td>5986.26</td>\n",
       "      <td>197.69</td>\n",
       "      <td>0.0</td>\n",
       "      <td>0</td>\n",
       "      <td>2015</td>\n",
       "      <td>0</td>\n",
       "      <td>11</td>\n",
       "      <td>29</td>\n",
       "    </tr>\n",
       "  </tbody>\n",
       "</table>\n",
       "</div>"
      ],
      "text/plain": [
       "   AveragePrice  Total Volume     4046       4225    4770  Small Bags  \\\n",
       "0          1.33      64236.62  1036.74   54454.85   48.16     8603.62   \n",
       "1          1.35      54876.98   674.28   44638.81   58.33     9408.07   \n",
       "2          0.93     118220.22   794.70  109149.67  130.50     8042.21   \n",
       "3          1.08      78992.15  1132.00   71976.41   72.58     5677.40   \n",
       "4          1.28      51039.60   941.48   43838.39   75.78     5986.26   \n",
       "\n",
       "   Large Bags  XLarge Bags  type  year  region  Month  Day  \n",
       "0       93.25          0.0     0  2015       0     12   27  \n",
       "1       97.49          0.0     0  2015       0     12   20  \n",
       "2      103.14          0.0     0  2015       0     12   13  \n",
       "3      133.76          0.0     0  2015       0     12    6  \n",
       "4      197.69          0.0     0  2015       0     11   29  "
      ]
     },
     "execution_count": 17,
     "metadata": {},
     "output_type": "execute_result"
    }
   ],
   "source": [
    "le = LabelEncoder()\n",
    "data[\"type\"] = le.fit_transform(data[\"type\"])\n",
    "data[\"region\"] = le.fit_transform(data[\"region\"])\n",
    "data.head()\n"
   ]
  },
  {
   "cell_type": "markdown",
   "metadata": {},
   "source": [
    "<a id=\"5\"></a>\n",
    "<p style=\"background-color:#FFF;font-family:newtimeroman;color:#347C17;font-size:180%;text-align:center;border-style: solid;border-radius:8px 8px;border-color:#347C17;border-width: 5px;\"> MODELING 🦾  </p>"
   ]
  },
  {
   "cell_type": "code",
   "execution_count": 18,
   "metadata": {
    "execution": {
     "iopub.execute_input": "2022-02-12T18:15:21.004424Z",
     "iopub.status.busy": "2022-02-12T18:15:21.003854Z",
     "iopub.status.idle": "2022-02-12T18:15:21.015846Z",
     "shell.execute_reply": "2022-02-12T18:15:21.015065Z",
     "shell.execute_reply.started": "2022-02-12T18:15:21.004378Z"
    }
   },
   "outputs": [],
   "source": [
    "X = data.drop(columns = [\"AveragePrice\"])\n",
    "y = data[\"AveragePrice\"]\n",
    "\n",
    "X_train,X_test,y_train,y_test = train_test_split(X,y,test_size=0.3,random_state=42)"
   ]
  },
  {
   "cell_type": "code",
   "execution_count": 19,
   "metadata": {
    "execution": {
     "iopub.execute_input": "2022-02-12T18:15:21.017461Z",
     "iopub.status.busy": "2022-02-12T18:15:21.017067Z",
     "iopub.status.idle": "2022-02-12T18:15:29.644863Z",
     "shell.execute_reply": "2022-02-12T18:15:29.643775Z",
     "shell.execute_reply.started": "2022-02-12T18:15:21.017424Z"
    }
   },
   "outputs": [],
   "source": [
    "model = RandomForestRegressor()\n",
    "tuned = model.fit(X_train, y_train)\n",
    "\n",
    "y_pred = model.predict(X_test )\n"
   ]
  },
  {
   "cell_type": "code",
   "execution_count": 20,
   "metadata": {
    "execution": {
     "iopub.execute_input": "2022-02-12T18:15:29.646488Z",
     "iopub.status.busy": "2022-02-12T18:15:29.646202Z",
     "iopub.status.idle": "2022-02-12T18:15:29.922750Z",
     "shell.execute_reply": "2022-02-12T18:15:29.921432Z",
     "shell.execute_reply.started": "2022-02-12T18:15:29.646461Z"
    }
   },
   "outputs": [
    {
     "data": {
      "image/png": "[encoded data removed]",
      "text/plain": [
       "<Figure size 720x720 with 1 Axes>"
      ]
     },
     "metadata": {},
     "output_type": "display_data"
    }
   ],
   "source": [
    "rf_Importance = pd.DataFrame({\"Importance\": tuned.feature_importances_*100},index = X_train.columns)\n",
    "\n",
    "s = rf_Importance.sort_values(by = \"Importance\", axis=0, ascending = False)\n",
    "fig_dims = (10, 10)\n",
    "fig, ax = plt.subplots(figsize=fig_dims)\n",
    "sns.barplot(x = \"Importance\", y =  rf_Importance[\"Importance\"].index, ax=ax, data=s);"
   ]
  },
  {
   "cell_type": "code",
   "execution_count": 21,
   "metadata": {
    "execution": {
     "iopub.execute_input": "2022-02-12T18:15:29.924660Z",
     "iopub.status.busy": "2022-02-12T18:15:29.924208Z",
     "iopub.status.idle": "2022-02-12T18:15:29.933544Z",
     "shell.execute_reply": "2022-02-12T18:15:29.932686Z",
     "shell.execute_reply.started": "2022-02-12T18:15:29.924596Z"
    }
   },
   "outputs": [
    {
     "data": {
      "text/plain": [
       "0.8836503917623284"
      ]
     },
     "execution_count": 21,
     "metadata": {},
     "output_type": "execute_result"
    }
   ],
   "source": [
    "score_r2 = metrics.r2_score(y_test, y_pred)\n",
    "score_r2"
   ]
  },
  {
   "cell_type": "code",
   "execution_count": 22,
   "metadata": {
    "execution": {
     "iopub.execute_input": "2022-02-12T18:15:29.935159Z",
     "iopub.status.busy": "2022-02-12T18:15:29.934848Z",
     "iopub.status.idle": "2022-02-12T18:15:30.595067Z",
     "shell.execute_reply": "2022-02-12T18:15:30.594088Z",
     "shell.execute_reply.started": "2022-02-12T18:15:29.935133Z"
    }
   },
   "outputs": [
    {
     "data": {
      "image/png": "[encoded data removed]",
      "text/plain": [
       "<Figure size 576x576 with 1 Axes>"
      ]
     },
     "metadata": {},
     "output_type": "display_data"
    }
   ],
   "source": [
    "plt.figure(figsize=(8,8))\n",
    "plt.scatter(y_test, y_pred, c=\"#4CAF50\")\n",
    "plt.yscale('log')\n",
    "plt.xscale('log')\n",
    "\n",
    "p1 = max(max(y_pred), max(y_test))\n",
    "p2 = min(min(y_pred), min(y_test))\n",
    "plt.plot([p1, p2], [p1, p2], \"y-\")\n",
    "plt.xlabel('True Values', fontsize=10)\n",
    "plt.ylabel('Predictions', fontsize=10)\n",
    "plt.axis('equal')\n",
    "plt.show()"
   ]
  },
  {
   "cell_type": "code",
   "execution_count": 23,
   "metadata": {
    "execution": {
     "iopub.execute_input": "2022-02-12T18:15:30.597918Z",
     "iopub.status.busy": "2022-02-12T18:15:30.597568Z",
     "iopub.status.idle": "2022-02-12T18:15:30.614178Z",
     "shell.execute_reply": "2022-02-12T18:15:30.613437Z",
     "shell.execute_reply.started": "2022-02-12T18:15:30.597884Z"
    }
   },
   "outputs": [],
   "source": [
    "scaler = StandardScaler()\n",
    "\n",
    "scaler.fit(X_train)\n",
    "X_train= scaler.transform(X_train)\n",
    "\n",
    "scaler.fit(X_test)\n",
    "X_test = scaler.transform(X_test)"
   ]
  },
  {
   "cell_type": "code",
   "execution_count": 24,
   "metadata": {
    "execution": {
     "iopub.execute_input": "2022-02-12T18:15:30.615566Z",
     "iopub.status.busy": "2022-02-12T18:15:30.615201Z",
     "iopub.status.idle": "2022-02-12T18:15:39.342278Z",
     "shell.execute_reply": "2022-02-12T18:15:39.341094Z",
     "shell.execute_reply.started": "2022-02-12T18:15:30.615539Z"
    }
   },
   "outputs": [],
   "source": [
    "model = RandomForestRegressor()\n",
    "tuned = model.fit(X_train, y_train)\n",
    "\n",
    "y_pred = model.predict(X_test )"
   ]
  },
  {
   "cell_type": "code",
   "execution_count": 25,
   "metadata": {
    "execution": {
     "iopub.execute_input": "2022-02-12T18:15:39.344053Z",
     "iopub.status.busy": "2022-02-12T18:15:39.343728Z",
     "iopub.status.idle": "2022-02-12T18:15:39.352442Z",
     "shell.execute_reply": "2022-02-12T18:15:39.351036Z",
     "shell.execute_reply.started": "2022-02-12T18:15:39.344020Z"
    }
   },
   "outputs": [
    {
     "data": {
      "text/plain": [
       "0.49030006212500665"
      ]
     },
     "execution_count": 25,
     "metadata": {},
     "output_type": "execute_result"
    }
   ],
   "source": [
    "score_r2 = metrics.r2_score(y_test, y_pred)\n",
    "score_r2"
   ]
  },
  {
   "cell_type": "code",
   "execution_count": 26,
   "metadata": {
    "execution": {
     "iopub.execute_input": "2022-02-12T18:15:39.354256Z",
     "iopub.status.busy": "2022-02-12T18:15:39.353873Z",
     "iopub.status.idle": "2022-02-12T18:15:39.956662Z",
     "shell.execute_reply": "2022-02-12T18:15:39.955548Z",
     "shell.execute_reply.started": "2022-02-12T18:15:39.354217Z"
    }
   },
   "outputs": [
    {
     "data": {
      "image/png": "[encoded data removed]",
      "text/plain": [
       "<Figure size 576x576 with 1 Axes>"
      ]
     },
     "metadata": {},
     "output_type": "display_data"
    }
   ],
   "source": [
    "plt.figure(figsize=(8,8))\n",
    "plt.scatter(y_test, y_pred, c='#4CAF50')\n",
    "plt.yscale('log')\n",
    "plt.xscale('log')\n",
    "\n",
    "p1 = max(max(y_pred), max(y_test))\n",
    "p2 = min(min(y_pred), min(y_test))\n",
    "plt.plot([p1, p2], [p1, p2], 'y-')\n",
    "plt.xlabel('True Values', fontsize=10)\n",
    "plt.ylabel('Predictions', fontsize=10)\n",
    "plt.axis('equal')\n",
    "plt.show()"
   ]
  }
 ],
 "metadata": {
  "kernelspec": {
   "display_name": "Python 3 (ipykernel)",
   "language": "python",
   "name": "python3"
  },
  "language_info": {
   "codemirror_mode": {
    "name": "ipython",
    "version": 3
   },
   "file_extension": ".py",
   "mimetype": "text/x-python",
   "name": "python",
   "nbconvert_exporter": "python",
   "pygments_lexer": "ipython3",
   "version": "3.9.7"
  }
 },
 "nbformat": 4,
 "nbformat_minor": 4
}
